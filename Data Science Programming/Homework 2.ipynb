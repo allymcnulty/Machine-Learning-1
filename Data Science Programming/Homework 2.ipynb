{
 "cells": [
  {
   "cell_type": "markdown",
   "metadata": {},
   "source": [
    "### MIS 6381 - Introduction to Data Science\n",
    "\n",
    "#### Homework Assignment 2  - Group 30 \n",
    "#### Date : 28th July 2021\n",
    "Group Members:\n",
    "<ul>\n",
    "<li>Ally McNulty</li>\n",
    "<li>Safiuddin Mohammed</li>\n",
    "<li>Trevor Moos</li>\n",
    "</ul>\n"
   ]
  },
  {
   "cell_type": "markdown",
   "metadata": {},
   "source": [
    "### SETUP\n"
   ]
  },
  {
   "cell_type": "code",
   "execution_count": 40,
   "metadata": {},
   "outputs": [],
   "source": [
    "import pandas as pd\n",
    "\n",
    "df = pd.read_csv('NYC_Restaurants.csv', dtype=str)"
   ]
  },
  {
   "cell_type": "markdown",
   "metadata": {},
   "source": [
    "### Q1 : Create a unique name for each restaurant \n",
    " "
   ]
  },
  {
   "cell_type": "code",
   "execution_count": 41,
   "metadata": {},
   "outputs": [
    {
     "name": "stdout",
     "output_type": "stream",
     "text": [
      "0           WENDY'S 469 FLATBUSH AVENUE 11225 BROOKLYN\n",
      "1           WENDY'S 469 FLATBUSH AVENUE 11225 BROOKLYN\n",
      "2           WENDY'S 469 FLATBUSH AVENUE 11225 BROOKLYN\n",
      "3           WENDY'S 469 FLATBUSH AVENUE 11225 BROOKLYN\n",
      "4           WENDY'S 469 FLATBUSH AVENUE 11225 BROOKLYN\n",
      "5        TOV KOSHER KITCHEN 97-22 63 ROAD 11374 QUEENS\n",
      "6        TOV KOSHER KITCHEN 97-22 63 ROAD 11374 QUEENS\n",
      "7        TOV KOSHER KITCHEN 97-22 63 ROAD 11374 QUEENS\n",
      "8        TOV KOSHER KITCHEN 97-22 63 ROAD 11374 QUEENS\n",
      "9    BRUNOS ON THE BOULEVARD 8825 ASTORIA BOULEVARD...\n",
      "Name: RESTAURANT, dtype: object\n"
     ]
    }
   ],
   "source": [
    "\n",
    "df['RESTAURANT'] = df['DBA'].str.cat(df[['BUILDING','STREET','ZIPCODE','BORO']].values,sep=' ')\n",
    "print(df['RESTAURANT'][:10])"
   ]
  },
  {
   "cell_type": "markdown",
   "metadata": {},
   "source": [
    "### Q2 : How many restaurants are included in the data?\n",
    "\n",
    "<b>Approach: </b> <br>\n",
    "Column <i>'restaurant'</i> allows us to uniquely identify a restaurant from the data set. Counting the number of unique values allows of <i>'restaurant'</i> gives us the total number of restaurants in the data set"
   ]
  },
  {
   "cell_type": "code",
   "execution_count": 42,
   "metadata": {},
   "outputs": [
    {
     "name": "stdout",
     "output_type": "stream",
     "text": [
      "Number of restaurant included in the data :  10114\n"
     ]
    }
   ],
   "source": [
    "countOfRestaurants=df['RESTAURANT'].nunique()\n",
    "print('Number of restaurant included in the data : ',countOfRestaurants)"
   ]
  },
  {
   "cell_type": "markdown",
   "metadata": {},
   "source": [
    "### Q3 : How many chains are there?\n",
    "\n",
    "<b>Approach: </b> <br>\n",
    "<ul>\n",
    "    <li>Create a reduced dataframe with only <i> 'DBA' </i> and <i> 'RESTAURANTS' </i> columns. Drop duplicates, so avoid repetition due to repeated violation inspections. Saved in <code>uniqueRestaurauntAdresses</code></li>\n",
    "    <li>Count <i> DBA </i> occurunces in number of <i> RESTAURAUNTS </i>. That is number of addresses that each DBA is in.     </li>\n",
    "    <li>Chose DBA having count of adresses atleast equal to two. This indicated a <b>chain<b> </li>\n",
    "</ul>"
   ]
  },
  {
   "cell_type": "code",
   "execution_count": 43,
   "metadata": {},
   "outputs": [
    {
     "name": "stdout",
     "output_type": "stream",
     "text": [
      "number of chains 368\n",
      "number of chain restauraunts 1666\n"
     ]
    }
   ],
   "source": [
    "uniqueRestaurauntAdresses=df[['DBA','RESTAURANT']].drop_duplicates(subset=['RESTAURANT'], keep='first')\n",
    "\n",
    "#Chains is when there are more than one unique adress for a single DBA\n",
    "countOfLocations=uniqueRestaurauntAdresses['DBA'].value_counts().rename_axis('Chain Name').reset_index(name='counts')\n",
    "countOfChains=countOfLocations[countOfLocations['counts']>1]\n",
    "\n",
    "\n",
    "\n",
    "print('number of chains',len(countOfChains))\n",
    "print('number of chain restauraunts',sum(countOfChains.counts))"
   ]
  },
  {
   "cell_type": "markdown",
   "metadata": {},
   "source": [
    "### Q4 : Plot a bar graph of the top 20 most popular chains.\n",
    "\n",
    "<b>Approach: </b> <br>\n",
    "<ul>\n",
    "    <li>Use <code>countOfChains</code> dataframe created previously. Values are in descending order.</li>\n",
    "    <li>Use list slicing to chose and plot first 20 indexes (already sorted).</li>\n",
    "</ul>\n",
    "\n",
    "<b> Note: </b> We ignore further indexes even though there are chains with equal number of restaurant in the 20th position, as the question specifically asks for top 20. For Example - Pronto Pizza, Hale & Hearty Soups, and Checkers all have 10 restauraunts, but we consider only Pronto Pizza in the 20th position."
   ]
  },
  {
   "cell_type": "code",
   "execution_count": 44,
   "metadata": {
    "scrolled": false
   },
   "outputs": [
    {
     "data": {
      "text/html": [
       "<div>\n",
       "<style scoped>\n",
       "    .dataframe tbody tr th:only-of-type {\n",
       "        vertical-align: middle;\n",
       "    }\n",
       "\n",
       "    .dataframe tbody tr th {\n",
       "        vertical-align: top;\n",
       "    }\n",
       "\n",
       "    .dataframe thead th {\n",
       "        text-align: right;\n",
       "    }\n",
       "</style>\n",
       "<table border=\"1\" class=\"dataframe\">\n",
       "  <thead>\n",
       "    <tr style=\"text-align: right;\">\n",
       "      <th></th>\n",
       "      <th>counts</th>\n",
       "    </tr>\n",
       "    <tr>\n",
       "      <th>Chain Name</th>\n",
       "      <th></th>\n",
       "    </tr>\n",
       "  </thead>\n",
       "  <tbody>\n",
       "    <tr>\n",
       "      <th>SUBWAY</th>\n",
       "      <td>144</td>\n",
       "    </tr>\n",
       "    <tr>\n",
       "      <th>MCDONALD'S</th>\n",
       "      <td>79</td>\n",
       "    </tr>\n",
       "    <tr>\n",
       "      <th>STARBUCKS COFFEE</th>\n",
       "      <td>74</td>\n",
       "    </tr>\n",
       "    <tr>\n",
       "      <th>DUNKIN' DONUTS</th>\n",
       "      <td>69</td>\n",
       "    </tr>\n",
       "    <tr>\n",
       "      <th>DUNKIN DONUTS</th>\n",
       "      <td>64</td>\n",
       "    </tr>\n",
       "    <tr>\n",
       "      <th>KENNEDY FRIED CHICKEN</th>\n",
       "      <td>44</td>\n",
       "    </tr>\n",
       "    <tr>\n",
       "      <th>BURGER KING</th>\n",
       "      <td>36</td>\n",
       "    </tr>\n",
       "    <tr>\n",
       "      <th>CROWN FRIED CHICKEN</th>\n",
       "      <td>32</td>\n",
       "    </tr>\n",
       "    <tr>\n",
       "      <th>DUNKIN' DONUTS, BASKIN ROBBINS</th>\n",
       "      <td>20</td>\n",
       "    </tr>\n",
       "    <tr>\n",
       "      <th>DOMINO'S PIZZA</th>\n",
       "      <td>18</td>\n",
       "    </tr>\n",
       "    <tr>\n",
       "      <th>CHIPOTLE MEXICAN GRILL</th>\n",
       "      <td>18</td>\n",
       "    </tr>\n",
       "    <tr>\n",
       "      <th>GOLDEN KRUST CARIBBEAN BAKERY &amp; GRILL</th>\n",
       "      <td>16</td>\n",
       "    </tr>\n",
       "    <tr>\n",
       "      <th>POPEYES CHICKEN &amp; BISCUITS</th>\n",
       "      <td>15</td>\n",
       "    </tr>\n",
       "    <tr>\n",
       "      <th>LITTLE CAESARS</th>\n",
       "      <td>15</td>\n",
       "    </tr>\n",
       "    <tr>\n",
       "      <th>AU BON PAIN</th>\n",
       "      <td>14</td>\n",
       "    </tr>\n",
       "    <tr>\n",
       "      <th>CARVEL ICE CREAM</th>\n",
       "      <td>11</td>\n",
       "    </tr>\n",
       "    <tr>\n",
       "      <th>WENDY'S</th>\n",
       "      <td>11</td>\n",
       "    </tr>\n",
       "    <tr>\n",
       "      <th>KFC</th>\n",
       "      <td>11</td>\n",
       "    </tr>\n",
       "    <tr>\n",
       "      <th>PRET A MANGER</th>\n",
       "      <td>11</td>\n",
       "    </tr>\n",
       "    <tr>\n",
       "      <th>PRONTO PIZZA</th>\n",
       "      <td>10</td>\n",
       "    </tr>\n",
       "  </tbody>\n",
       "</table>\n",
       "</div>"
      ],
      "text/plain": [
       "                                       counts\n",
       "Chain Name                                   \n",
       "SUBWAY                                    144\n",
       "MCDONALD'S                                 79\n",
       "STARBUCKS COFFEE                           74\n",
       "DUNKIN' DONUTS                             69\n",
       "DUNKIN DONUTS                              64\n",
       "KENNEDY FRIED CHICKEN                      44\n",
       "BURGER KING                                36\n",
       "CROWN FRIED CHICKEN                        32\n",
       "DUNKIN' DONUTS, BASKIN ROBBINS             20\n",
       "DOMINO'S PIZZA                             18\n",
       "CHIPOTLE MEXICAN GRILL                     18\n",
       "GOLDEN KRUST CARIBBEAN BAKERY & GRILL      16\n",
       "POPEYES CHICKEN & BISCUITS                 15\n",
       "LITTLE CAESARS                             15\n",
       "AU BON PAIN                                14\n",
       "CARVEL ICE CREAM                           11\n",
       "WENDY'S                                    11\n",
       "KFC                                        11\n",
       "PRET A MANGER                              11\n",
       "PRONTO PIZZA                               10"
      ]
     },
     "metadata": {},
     "output_type": "display_data"
    },
    {
     "data": {
      "image/png": "[encoded data removed]",
      "text/plain": [
       "<Figure size 432x288 with 1 Axes>"
      ]
     },
     "metadata": {
      "needs_background": "light"
     },
     "output_type": "display_data"
    }
   ],
   "source": [
    "countOfChains=countOfLocations[countOfLocations['counts']>1]\n",
    "countOfChains=countOfChains.set_index('Chain Name')\n",
    "display(countOfChains[0:20])\n",
    "countOfChains[0:20].plot.bar();"
   ]
  },
  {
   "cell_type": "markdown",
   "metadata": {},
   "source": [
    "### Q5: What fraction of all restaurants are chain restaurants?\n",
    "<b>Approach: </b> <br>\n",
    "<ul>\n",
    "    <li><code>countOfChains</code> dataframe consists of Chain Name : Number of restaurants for that Chain(counts). Sum of the counts column gives us the total number of chain restaurants.</li>\n",
    "    <li><code>uniqueRestaurauntAdresses</code> dataframe created in Q3, gives us a dataframe of unique restaurants. Length of this dataframe indicates the total number of restauraunts.</li>\n",
    "</ul>\n"
   ]
  },
  {
   "cell_type": "code",
   "execution_count": 45,
   "metadata": {},
   "outputs": [
    {
     "name": "stdout",
     "output_type": "stream",
     "text": [
      "0.16472216729286138\n"
     ]
    }
   ],
   "source": [
    "fractionOfChains=(sum(countOfChains.counts))/len(uniqueRestaurauntAdresses)\n",
    "print(fractionOfChains)"
   ]
  },
  {
   "cell_type": "markdown",
   "metadata": {},
   "source": [
    "### Q6: Plot the number of non-chain restaurants in each Boro.\n",
    "<b>Approach: </b> <br>\n",
    "<ul>\n",
    "    <li> To identify 'non-chain' restauraunts, Add Column to original dataframe df, which indicates a <i>chain</i> or <i>nonchain<i> restaurant. <blockquote><ul><li>Left merge dataframe <code>df</code> with <code>countOfChains</code> on <code>DBA</code> column. </li> <li>Replace <code>Nan</code> values with '0'. If column value =0 it is an independent restauraunt or a 'nonchain'</li></ul></blockquote></li>\n",
    "    <li><code>uniqueIndependentRestauraunts</code> Filter df to get only non-chain restauraunts with newly created column. Remove duplicates to ensure only unique restauraunts</li>\n",
    "        <li><code>countOfNonchainsInEachBoro</code> Count the number of restaurants (rows) for each <code>BORO</code> </li>\n",
    "</ul>\n",
    "\n",
    "        \n",
    "<b>Please Note: We remove all BORO values with <i> \" Missing \"</i> value</b>"
   ]
  },
  {
   "cell_type": "code",
   "execution_count": 46,
   "metadata": {},
   "outputs": [
    {
     "data": {
      "text/html": [
       "<div>\n",
       "<style scoped>\n",
       "    .dataframe tbody tr th:only-of-type {\n",
       "        vertical-align: middle;\n",
       "    }\n",
       "\n",
       "    .dataframe tbody tr th {\n",
       "        vertical-align: top;\n",
       "    }\n",
       "\n",
       "    .dataframe thead th {\n",
       "        text-align: right;\n",
       "    }\n",
       "</style>\n",
       "<table border=\"1\" class=\"dataframe\">\n",
       "  <thead>\n",
       "    <tr style=\"text-align: right;\">\n",
       "      <th></th>\n",
       "      <th>counts</th>\n",
       "    </tr>\n",
       "    <tr>\n",
       "      <th>BORO</th>\n",
       "      <th></th>\n",
       "    </tr>\n",
       "  </thead>\n",
       "  <tbody>\n",
       "    <tr>\n",
       "      <th>MANHATTAN</th>\n",
       "      <td>3323</td>\n",
       "    </tr>\n",
       "    <tr>\n",
       "      <th>BROOKLYN</th>\n",
       "      <td>2180</td>\n",
       "    </tr>\n",
       "    <tr>\n",
       "      <th>QUEENS</th>\n",
       "      <td>1968</td>\n",
       "    </tr>\n",
       "    <tr>\n",
       "      <th>BRONX</th>\n",
       "      <td>659</td>\n",
       "    </tr>\n",
       "    <tr>\n",
       "      <th>STATEN ISLAND</th>\n",
       "      <td>312</td>\n",
       "    </tr>\n",
       "  </tbody>\n",
       "</table>\n",
       "</div>"
      ],
      "text/plain": [
       "               counts\n",
       "BORO                 \n",
       "MANHATTAN        3323\n",
       "BROOKLYN         2180\n",
       "QUEENS           1968\n",
       "BRONX             659\n",
       "STATEN ISLAND     312"
      ]
     },
     "metadata": {},
     "output_type": "display_data"
    },
    {
     "data": {
      "image/png": "[encoded data removed]",
      "text/plain": [
       "<Figure size 432x288 with 1 Axes>"
      ]
     },
     "metadata": {
      "needs_background": "light"
     },
     "output_type": "display_data"
    }
   ],
   "source": [
    "#Add Column 'counts' to the original df\n",
    "countOfChains=countOfChains.rename_axis('DBA').reset_index('DBA')\n",
    "df=df.merge(countOfChains, on='DBA' , how='left')\n",
    "df['counts'] = df['counts'].fillna(0)\n",
    "df.loc[df.counts > 0, 'counts'] = 'chain'\n",
    "df.loc[df.counts == 0, 'counts'] = 'nonchain'\n",
    "\n",
    "uniqueRestauraunts=df[['DBA','RESTAURANT','BORO','counts']].drop_duplicates(subset=['RESTAURANT'], keep='first')\n",
    "uniqueIndependentRestauraunts=uniqueRestauraunts[uniqueRestauraunts['counts']=='nonchain']\n",
    "\n",
    "countOfNonchainsInEachBoro=uniqueIndependentRestauraunts['BORO'].value_counts().rename_axis('BORO').reset_index(name='counts')\n",
    "countOfNonchainsInEachBoro=countOfNonchainsInEachBoro[countOfNonchainsInEachBoro['BORO']!='Missing']\n",
    "countOfNonchainsInEachBoro=countOfNonchainsInEachBoro.set_index('BORO')\n",
    "\n",
    "display(countOfNonchainsInEachBoro)\n",
    "\n",
    "countOfNonchainsInEachBoro.plot.bar();"
   ]
  },
  {
   "cell_type": "markdown",
   "metadata": {},
   "source": [
    "### Q7: Plot the fraction of non-chain restaurants in each boro. \n",
    "\n",
    "<b>Approach: </b> <br>\n",
    "<ul>\n",
    "    <li><code>countOfAllInEachBoro</code> Get number of restaurants in each BORO of both chain and nonchain types</li>\n",
    "    <li><code>countOfNonchainsInEachBoro</code> Calculated previously.</li>\n",
    "    <li><code>countByBoro</code> Merge the above two calculated dataframes <code>countOfAllInEachBoro</code> and <code>countOfNonchainsInEachBoro</code>.\n",
    "    <li><code>fracNonchain</code> Create new column dividing <code>countOfNonchainsInEachBoro</code> with <code>countOfAllInEachBoro</code></li>\n",
    "</ul>\n",
    "\n",
    "\n",
    "<b>Answer: </b> <br>\n",
    "Most Independednt Restauraunts in Manhattan BORO. However, highest  of fraction Independednt Restauraunt in Brooklyn BORO. "
   ]
  },
  {
   "cell_type": "code",
   "execution_count": 47,
   "metadata": {},
   "outputs": [
    {
     "data": {
      "text/html": [
       "<div>\n",
       "<style scoped>\n",
       "    .dataframe tbody tr th:only-of-type {\n",
       "        vertical-align: middle;\n",
       "    }\n",
       "\n",
       "    .dataframe tbody tr th {\n",
       "        vertical-align: top;\n",
       "    }\n",
       "\n",
       "    .dataframe thead th {\n",
       "        text-align: right;\n",
       "    }\n",
       "</style>\n",
       "<table border=\"1\" class=\"dataframe\">\n",
       "  <thead>\n",
       "    <tr style=\"text-align: right;\">\n",
       "      <th></th>\n",
       "      <th>BORO</th>\n",
       "      <th>counts_total</th>\n",
       "      <th>counts_nonchain</th>\n",
       "      <th>fracNonchain</th>\n",
       "    </tr>\n",
       "  </thead>\n",
       "  <tbody>\n",
       "    <tr>\n",
       "      <th>0</th>\n",
       "      <td>MANHATTAN</td>\n",
       "      <td>4001</td>\n",
       "      <td>3323</td>\n",
       "      <td>0.830542</td>\n",
       "    </tr>\n",
       "    <tr>\n",
       "      <th>1</th>\n",
       "      <td>BROOKLYN</td>\n",
       "      <td>2529</td>\n",
       "      <td>2180</td>\n",
       "      <td>0.862001</td>\n",
       "    </tr>\n",
       "    <tr>\n",
       "      <th>2</th>\n",
       "      <td>QUEENS</td>\n",
       "      <td>2321</td>\n",
       "      <td>1968</td>\n",
       "      <td>0.847910</td>\n",
       "    </tr>\n",
       "    <tr>\n",
       "      <th>3</th>\n",
       "      <td>BRONX</td>\n",
       "      <td>855</td>\n",
       "      <td>659</td>\n",
       "      <td>0.770760</td>\n",
       "    </tr>\n",
       "    <tr>\n",
       "      <th>4</th>\n",
       "      <td>STATEN ISLAND</td>\n",
       "      <td>394</td>\n",
       "      <td>312</td>\n",
       "      <td>0.791878</td>\n",
       "    </tr>\n",
       "  </tbody>\n",
       "</table>\n",
       "</div>"
      ],
      "text/plain": [
       "            BORO  counts_total  counts_nonchain  fracNonchain\n",
       "0      MANHATTAN          4001             3323      0.830542\n",
       "1       BROOKLYN          2529             2180      0.862001\n",
       "2         QUEENS          2321             1968      0.847910\n",
       "3          BRONX           855              659      0.770760\n",
       "4  STATEN ISLAND           394              312      0.791878"
      ]
     },
     "metadata": {},
     "output_type": "display_data"
    },
    {
     "name": "stdout",
     "output_type": "stream",
     "text": [
      "Most Independednt Restauraunts in Manhattan BORO. However, highest ration of  Independednt Restauraunt in Brooklyn\n"
     ]
    },
    {
     "data": {
      "text/plain": [
       "<matplotlib.axes._subplots.AxesSubplot at 0x17216aa4ec8>"
      ]
     },
     "execution_count": 47,
     "metadata": {},
     "output_type": "execute_result"
    },
    {
     "data": {
      "image/png": "[encoded data removed]",
      "text/plain": [
       "<Figure size 432x288 with 1 Axes>"
      ]
     },
     "metadata": {
      "needs_background": "light"
     },
     "output_type": "display_data"
    }
   ],
   "source": [
    "countOfAllInEachBoro=uniqueRestauraunts['BORO'].value_counts().rename_axis('BORO').reset_index(name='counts')\n",
    "countOfAllInEachBoro=countOfAllInEachBoro[countOfAllInEachBoro['BORO']!='Missing']\n",
    "\n",
    "countByBoro=countOfAllInEachBoro.merge(countOfNonchainsInEachBoro, on='BORO', how='left', suffixes=['_total','_nonchain'])\n",
    "countByBoro['fracNonchain']=countByBoro['counts_nonchain']/countByBoro['counts_total']\n",
    "\n",
    "\n",
    "display(countByBoro)\n",
    "\n",
    "print('Most Independednt Restauraunts in Manhattan BORO. However, highest ration of  Independednt Restauraunt in Brooklyn')\n",
    "\n",
    "countByBoro.plot.bar(x='BORO', y='fracNonchain')"
   ]
  },
  {
   "cell_type": "markdown",
   "metadata": {},
   "source": [
    "### Q8: Plot the popularity of cuisines (Top 20). \n",
    "\n",
    "<b>Approach: </b> <br>\n",
    "<ul>\n",
    "    <li><code>uniqueRestauraunts</code> Get list of unique restauraunts by dropping dupicates based on the <i>RESTAURANT</i> column in df.</li>\n",
    "    <li><code>countOfRestaurauntsPerCuisine</code> Frequency count of <i>CUISINE DESCRIPTION</i> in the <code>uniqueRestauraunts</code> dataframe. The dataframe is sorted by frequency</li>\n",
    "    <li><code>countOfRestaurauntsPerCuisine</code> Slice the top 20 values, and plot in a bar graph.\n",
    "\n",
    "</ul>\n",
    "\n",
    "\n",
    "<b> Note: </b> We ignore further indexes even though there are cuisines with equal number of restaurant in the 20th position, as the question specifically asks for top 20."
   ]
  },
  {
   "cell_type": "code",
   "execution_count": 48,
   "metadata": {},
   "outputs": [
    {
     "data": {
      "text/html": [
       "<div>\n",
       "<style scoped>\n",
       "    .dataframe tbody tr th:only-of-type {\n",
       "        vertical-align: middle;\n",
       "    }\n",
       "\n",
       "    .dataframe tbody tr th {\n",
       "        vertical-align: top;\n",
       "    }\n",
       "\n",
       "    .dataframe thead th {\n",
       "        text-align: right;\n",
       "    }\n",
       "</style>\n",
       "<table border=\"1\" class=\"dataframe\">\n",
       "  <thead>\n",
       "    <tr style=\"text-align: right;\">\n",
       "      <th></th>\n",
       "      <th>counts</th>\n",
       "    </tr>\n",
       "    <tr>\n",
       "      <th>CUISINE DESCRIPTION</th>\n",
       "      <th></th>\n",
       "    </tr>\n",
       "  </thead>\n",
       "  <tbody>\n",
       "    <tr>\n",
       "      <th>American</th>\n",
       "      <td>2238</td>\n",
       "    </tr>\n",
       "    <tr>\n",
       "      <th>Chinese</th>\n",
       "      <td>1098</td>\n",
       "    </tr>\n",
       "    <tr>\n",
       "      <th>Café/Coffee/Tea</th>\n",
       "      <td>498</td>\n",
       "    </tr>\n",
       "    <tr>\n",
       "      <th>Pizza</th>\n",
       "      <td>482</td>\n",
       "    </tr>\n",
       "    <tr>\n",
       "      <th>Italian</th>\n",
       "      <td>451</td>\n",
       "    </tr>\n",
       "    <tr>\n",
       "      <th>Latin (Cuban, Dominican, Puerto Rican, South &amp; Central American)</th>\n",
       "      <td>391</td>\n",
       "    </tr>\n",
       "    <tr>\n",
       "      <th>Japanese</th>\n",
       "      <td>340</td>\n",
       "    </tr>\n",
       "    <tr>\n",
       "      <th>Mexican</th>\n",
       "      <td>339</td>\n",
       "    </tr>\n",
       "    <tr>\n",
       "      <th>Bakery</th>\n",
       "      <td>326</td>\n",
       "    </tr>\n",
       "    <tr>\n",
       "      <th>Spanish</th>\n",
       "      <td>311</td>\n",
       "    </tr>\n",
       "    <tr>\n",
       "      <th>Caribbean</th>\n",
       "      <td>287</td>\n",
       "    </tr>\n",
       "    <tr>\n",
       "      <th>Pizza/Italian</th>\n",
       "      <td>217</td>\n",
       "    </tr>\n",
       "    <tr>\n",
       "      <th>Donuts</th>\n",
       "      <td>176</td>\n",
       "    </tr>\n",
       "    <tr>\n",
       "      <th>Hamburgers</th>\n",
       "      <td>171</td>\n",
       "    </tr>\n",
       "    <tr>\n",
       "      <th>Sandwiches</th>\n",
       "      <td>166</td>\n",
       "    </tr>\n",
       "    <tr>\n",
       "      <th>Chicken</th>\n",
       "      <td>166</td>\n",
       "    </tr>\n",
       "    <tr>\n",
       "      <th>Delicatessen</th>\n",
       "      <td>153</td>\n",
       "    </tr>\n",
       "    <tr>\n",
       "      <th>Asian</th>\n",
       "      <td>146</td>\n",
       "    </tr>\n",
       "    <tr>\n",
       "      <th>French</th>\n",
       "      <td>145</td>\n",
       "    </tr>\n",
       "    <tr>\n",
       "      <th>Jewish/Kosher</th>\n",
       "      <td>144</td>\n",
       "    </tr>\n",
       "  </tbody>\n",
       "</table>\n",
       "</div>"
      ],
      "text/plain": [
       "                                                    counts\n",
       "CUISINE DESCRIPTION                                       \n",
       "American                                              2238\n",
       "Chinese                                               1098\n",
       "Café/Coffee/Tea                                        498\n",
       "Pizza                                                  482\n",
       "Italian                                                451\n",
       "Latin (Cuban, Dominican, Puerto Rican, South & ...     391\n",
       "Japanese                                               340\n",
       "Mexican                                                339\n",
       "Bakery                                                 326\n",
       "Spanish                                                311\n",
       "Caribbean                                              287\n",
       "Pizza/Italian                                          217\n",
       "Donuts                                                 176\n",
       "Hamburgers                                             171\n",
       "Sandwiches                                             166\n",
       "Chicken                                                166\n",
       "Delicatessen                                           153\n",
       "Asian                                                  146\n",
       "French                                                 145\n",
       "Jewish/Kosher                                          144"
      ]
     },
     "metadata": {},
     "output_type": "display_data"
    },
    {
     "data": {
      "image/png": "[encoded data removed]",
      "text/plain": [
       "<Figure size 432x288 with 1 Axes>"
      ]
     },
     "metadata": {
      "needs_background": "light"
     },
     "output_type": "display_data"
    }
   ],
   "source": [
    "uniqueRestauraunts=df[['DBA','RESTAURANT','CUISINE DESCRIPTION','counts']].drop_duplicates(subset=['RESTAURANT'], keep='first')\n",
    "countOfRestaurauntsPerCuisine=uniqueRestauraunts['CUISINE DESCRIPTION'].value_counts().rename_axis('CUISINE DESCRIPTION').reset_index(name='counts')\n",
    "countOfRestaurauntsPerCuisine=countOfRestaurauntsPerCuisine.set_index('CUISINE DESCRIPTION')\n",
    "\n",
    "display(countOfRestaurauntsPerCuisine[0:20])\n",
    "countOfRestaurauntsPerCuisine[0:20].plot.bar();"
   ]
  },
  {
   "cell_type": "markdown",
   "metadata": {},
   "source": [
    "### Q9: Plot the cuisines among restaurants which never got cited for violations(Top 20).\n",
    "\n",
    "<b>Approach: </b> <br>\n",
    "<ul>\n",
    "    <li><code>noViolation</code> Get dataframe of restauraunts with atleast one inspection not having any violation.</li>\n",
    "    <li><code>hasViolation</code> Get dataframe of restauraunts with atleast one inspection having a violation.y</li>\n",
    "    <li><code>noViolationReduced</code> Filter restauraunts from <code>noViolation</code> that exist in <code>hasViolation</code>. These are restaurants that may have cleared a few inspections with no violation but have previously received. We want restauraunts that <b> never </b> got cited for violations. </li>\n",
    "    <li><code>noViolationReducedRemoveDuplicates</code> Remove duplicate records. These are restauraunts that had multiple inspections with no violations cited. </li>\n",
    "    <li><code>countCuisinesNoViolationRestauraunts</code> Finally count the cuisines from the <code>noViolationReducedRemoveDuplicates</code> dataframe. Slice and plot top-20 indexes after sorting. </li>\n",
    "</ul>\n",
    "\n",
    "\n",
    "<b> Note: </b> We ignore further indexes even though there are cuisines with equal number of restaurant in the 20th position, as the question specifically asks for top 20."
   ]
  },
  {
   "cell_type": "code",
   "execution_count": 49,
   "metadata": {},
   "outputs": [
    {
     "data": {
      "text/html": [
       "<div>\n",
       "<style scoped>\n",
       "    .dataframe tbody tr th:only-of-type {\n",
       "        vertical-align: middle;\n",
       "    }\n",
       "\n",
       "    .dataframe tbody tr th {\n",
       "        vertical-align: top;\n",
       "    }\n",
       "\n",
       "    .dataframe thead th {\n",
       "        text-align: right;\n",
       "    }\n",
       "</style>\n",
       "<table border=\"1\" class=\"dataframe\">\n",
       "  <thead>\n",
       "    <tr style=\"text-align: right;\">\n",
       "      <th></th>\n",
       "      <th>counts</th>\n",
       "    </tr>\n",
       "    <tr>\n",
       "      <th>CUISINE DESCRIPTION</th>\n",
       "      <th></th>\n",
       "    </tr>\n",
       "  </thead>\n",
       "  <tbody>\n",
       "    <tr>\n",
       "      <th>American</th>\n",
       "      <td>49</td>\n",
       "    </tr>\n",
       "    <tr>\n",
       "      <th>Chinese</th>\n",
       "      <td>42</td>\n",
       "    </tr>\n",
       "    <tr>\n",
       "      <th>Café/Coffee/Tea</th>\n",
       "      <td>14</td>\n",
       "    </tr>\n",
       "    <tr>\n",
       "      <th>Pizza</th>\n",
       "      <td>11</td>\n",
       "    </tr>\n",
       "    <tr>\n",
       "      <th>Italian</th>\n",
       "      <td>10</td>\n",
       "    </tr>\n",
       "    <tr>\n",
       "      <th>Latin (Cuban, Dominican, Puerto Rican, South &amp; Central American)</th>\n",
       "      <td>10</td>\n",
       "    </tr>\n",
       "    <tr>\n",
       "      <th>Spanish</th>\n",
       "      <td>8</td>\n",
       "    </tr>\n",
       "    <tr>\n",
       "      <th>Japanese</th>\n",
       "      <td>8</td>\n",
       "    </tr>\n",
       "    <tr>\n",
       "      <th>Bakery</th>\n",
       "      <td>7</td>\n",
       "    </tr>\n",
       "    <tr>\n",
       "      <th>Asian</th>\n",
       "      <td>6</td>\n",
       "    </tr>\n",
       "    <tr>\n",
       "      <th>Other</th>\n",
       "      <td>6</td>\n",
       "    </tr>\n",
       "    <tr>\n",
       "      <th>Delicatessen</th>\n",
       "      <td>5</td>\n",
       "    </tr>\n",
       "    <tr>\n",
       "      <th>Donuts</th>\n",
       "      <td>5</td>\n",
       "    </tr>\n",
       "    <tr>\n",
       "      <th>French</th>\n",
       "      <td>4</td>\n",
       "    </tr>\n",
       "    <tr>\n",
       "      <th>Thai</th>\n",
       "      <td>4</td>\n",
       "    </tr>\n",
       "    <tr>\n",
       "      <th>Hamburgers</th>\n",
       "      <td>3</td>\n",
       "    </tr>\n",
       "    <tr>\n",
       "      <th>Korean</th>\n",
       "      <td>3</td>\n",
       "    </tr>\n",
       "    <tr>\n",
       "      <th>Mexican</th>\n",
       "      <td>3</td>\n",
       "    </tr>\n",
       "    <tr>\n",
       "      <th>Sandwiches/Salads/Mixed Buffet</th>\n",
       "      <td>3</td>\n",
       "    </tr>\n",
       "    <tr>\n",
       "      <th>Sandwiches</th>\n",
       "      <td>3</td>\n",
       "    </tr>\n",
       "  </tbody>\n",
       "</table>\n",
       "</div>"
      ],
      "text/plain": [
       "                                                    counts\n",
       "CUISINE DESCRIPTION                                       \n",
       "American                                                49\n",
       "Chinese                                                 42\n",
       "Café/Coffee/Tea                                         14\n",
       "Pizza                                                   11\n",
       "Italian                                                 10\n",
       "Latin (Cuban, Dominican, Puerto Rican, South & ...      10\n",
       "Spanish                                                  8\n",
       "Japanese                                                 8\n",
       "Bakery                                                   7\n",
       "Asian                                                    6\n",
       "Other                                                    6\n",
       "Delicatessen                                             5\n",
       "Donuts                                                   5\n",
       "French                                                   4\n",
       "Thai                                                     4\n",
       "Hamburgers                                               3\n",
       "Korean                                                   3\n",
       "Mexican                                                  3\n",
       "Sandwiches/Salads/Mixed Buffet                           3\n",
       "Sandwiches                                               3"
      ]
     },
     "metadata": {},
     "output_type": "display_data"
    },
    {
     "data": {
      "image/png": "[encoded data removed]",
      "text/plain": [
       "<Figure size 432x288 with 1 Axes>"
      ]
     },
     "metadata": {
      "needs_background": "light"
     },
     "output_type": "display_data"
    }
   ],
   "source": [
    "noViolation=df[df['VIOLATION CODE'].isnull()]\n",
    "hasViolation=df[~df['VIOLATION CODE'].isnull()]\n",
    "\n",
    "\n",
    "noViolationReduced=noViolation[~noViolation['RESTAURANT'].isin(hasViolation['RESTAURANT'])]\n",
    "noViolationRestauraunts=noViolation[['DBA','RESTAURANT','CUISINE DESCRIPTION','VIOLATION CODE']].drop_duplicates(subset=['RESTAURANT'], keep='first')\n",
    "\n",
    "\n",
    "noViolationReducedRemoveDuplicates=noViolationReduced.drop_duplicates(subset=['RESTAURANT'], keep='first')\n",
    "countCuisinesNoViolationRestauraunts=noViolationReducedRemoveDuplicates['CUISINE DESCRIPTION'].value_counts().rename_axis('CUISINE DESCRIPTION').reset_index(name='counts')\n",
    "countCuisinesNoViolationRestauraunts=countCuisinesNoViolationRestauraunts.set_index('CUISINE DESCRIPTION')\n",
    "display(countCuisinesNoViolationRestauraunts[0:20])\n",
    "countCuisinesNoViolationRestauraunts[0:20].plot.bar();"
   ]
  },
  {
   "cell_type": "markdown",
   "metadata": {},
   "source": [
    "### Q10: What cuisines tend to be the “cleanest” (Top 10). Only find and display. \n",
    "\n",
    "<b>Approach: </b> <br>\n",
    "<ul>\n",
    "    <li><code>countOfRestaurauntsPerCuisine</code> Use dataframe calculated previously in Q8 </li>\n",
    "    <li><code>countOfgreater20RestaurauntsPerCuisine</code> Filter cuisines with at least 20 restauraunts</li>\n",
    "    <li><code>cleanestRestaurantsRatios</code> dataframe created from merging <code>countCuisinesNoViolationRestauraunts</code>. <code>countCuisinesNoViolationRestauraunts</code> dataframw was calculated previously in Q9. \n",
    "    <li><code>cleanestRestaurantsRatios['cleanliness factor']</code> is <code>countOfgreater20RestaurauntsPerCuisine</code> divided by <code>countCuisinesNoViolationRestauraunts</code></li>\n",
    "    <li><code>topTencleanestRestauraunts</code> is <code>cleanestRestaurantsRatios</code> sorted and displayed in descending order for head(10) .  </li>\n",
    "</ul>\n"
   ]
  },
  {
   "cell_type": "code",
   "execution_count": 50,
   "metadata": {},
   "outputs": [
    {
     "name": "stdout",
     "output_type": "stream",
     "text": [
      "TOP 10 Cleanliest cuisines\n"
     ]
    },
    {
     "data": {
      "text/html": [
       "<div>\n",
       "<style scoped>\n",
       "    .dataframe tbody tr th:only-of-type {\n",
       "        vertical-align: middle;\n",
       "    }\n",
       "\n",
       "    .dataframe tbody tr th {\n",
       "        vertical-align: top;\n",
       "    }\n",
       "\n",
       "    .dataframe thead th {\n",
       "        text-align: right;\n",
       "    }\n",
       "</style>\n",
       "<table border=\"1\" class=\"dataframe\">\n",
       "  <thead>\n",
       "    <tr style=\"text-align: right;\">\n",
       "      <th></th>\n",
       "      <th>CUISINE DESCRIPTION</th>\n",
       "      <th>cleanliness factor</th>\n",
       "    </tr>\n",
       "  </thead>\n",
       "  <tbody>\n",
       "    <tr>\n",
       "      <th>44</th>\n",
       "      <td>Soul Food</td>\n",
       "      <td>0.090909</td>\n",
       "    </tr>\n",
       "    <tr>\n",
       "      <th>39</th>\n",
       "      <td>Vietnamese/Cambodian/Malaysia</td>\n",
       "      <td>0.062500</td>\n",
       "    </tr>\n",
       "    <tr>\n",
       "      <th>24</th>\n",
       "      <td>Other</td>\n",
       "      <td>0.058252</td>\n",
       "    </tr>\n",
       "    <tr>\n",
       "      <th>47</th>\n",
       "      <td>Continental</td>\n",
       "      <td>0.047619</td>\n",
       "    </tr>\n",
       "    <tr>\n",
       "      <th>46</th>\n",
       "      <td>Barbecue</td>\n",
       "      <td>0.047619</td>\n",
       "    </tr>\n",
       "    <tr>\n",
       "      <th>45</th>\n",
       "      <td>Soups &amp; Sandwiches</td>\n",
       "      <td>0.047619</td>\n",
       "    </tr>\n",
       "    <tr>\n",
       "      <th>17</th>\n",
       "      <td>Asian</td>\n",
       "      <td>0.041096</td>\n",
       "    </tr>\n",
       "    <tr>\n",
       "      <th>1</th>\n",
       "      <td>Chinese</td>\n",
       "      <td>0.038251</td>\n",
       "    </tr>\n",
       "    <tr>\n",
       "      <th>32</th>\n",
       "      <td>Greek</td>\n",
       "      <td>0.036364</td>\n",
       "    </tr>\n",
       "    <tr>\n",
       "      <th>41</th>\n",
       "      <td>Peruvian</td>\n",
       "      <td>0.035714</td>\n",
       "    </tr>\n",
       "  </tbody>\n",
       "</table>\n",
       "</div>"
      ],
      "text/plain": [
       "              CUISINE DESCRIPTION  cleanliness factor\n",
       "44                      Soul Food            0.090909\n",
       "39  Vietnamese/Cambodian/Malaysia            0.062500\n",
       "24                          Other            0.058252\n",
       "47                    Continental            0.047619\n",
       "46                       Barbecue            0.047619\n",
       "45             Soups & Sandwiches            0.047619\n",
       "17                          Asian            0.041096\n",
       "1                         Chinese            0.038251\n",
       "32                          Greek            0.036364\n",
       "41                       Peruvian            0.035714"
      ]
     },
     "metadata": {},
     "output_type": "display_data"
    }
   ],
   "source": [
    "countOfRestaurauntsPerCuisine=countOfRestaurauntsPerCuisine.reset_index()\n",
    "countOfgreater20RestaurauntsPerCuisine=countOfRestaurauntsPerCuisine[countOfRestaurauntsPerCuisine['counts']>=20]\n",
    "cleanestRestaurantsRatios=countOfgreater20RestaurauntsPerCuisine.merge(countCuisinesNoViolationRestauraunts , on='CUISINE DESCRIPTION', how='left', suffixes=['_total','_noviolations'])\n",
    "cleanestRestaurantsRatios['cleanliness factor']=cleanestRestaurantsRatios['counts_noviolations']/cleanestRestaurantsRatios['counts_total']\n",
    "topTencleanestRestauraunts = cleanestRestaurantsRatios.sort_values('cleanliness factor',ascending = False).head(10)\n",
    "print('TOP 10 Cleanliest cuisines')\n",
    "display(topTencleanestRestauraunts[['CUISINE DESCRIPTION','cleanliness factor']])"
   ]
  },
  {
   "cell_type": "markdown",
   "metadata": {},
   "source": [
    "### Q11: What are the most common violations in each borough? \n",
    "<b>Approach: </b> <br>\n",
    "<ul>\n",
    "    <li><code>boroViolations</code> Crosstab function of Pandas to get count of each violation in BORO.</li>\n",
    "    <li><code>mostCommonViolationCode</code> Use idxmax() to get highest value for each BORO</li>\n",
    "    <li><code>mostCommonViolationCode</code> Merge with <code>violationDictionary</code> to get Violation description and Violation Code</li>\n",
    "</ul>\n",
    "\n",
    "<b>Note: We do not consider records with Missing BORO value</b>"
   ]
  },
  {
   "cell_type": "code",
   "execution_count": 51,
   "metadata": {},
   "outputs": [
    {
     "data": {
      "text/html": [
       "<div>\n",
       "<style scoped>\n",
       "    .dataframe tbody tr th:only-of-type {\n",
       "        vertical-align: middle;\n",
       "    }\n",
       "\n",
       "    .dataframe tbody tr th {\n",
       "        vertical-align: top;\n",
       "    }\n",
       "\n",
       "    .dataframe thead th {\n",
       "        text-align: right;\n",
       "    }\n",
       "</style>\n",
       "<table border=\"1\" class=\"dataframe\">\n",
       "  <thead>\n",
       "    <tr style=\"text-align: right;\">\n",
       "      <th></th>\n",
       "      <th>CUISINE DESCRIPTION</th>\n",
       "      <th>VIOLATION DESCRIPTION</th>\n",
       "      <th>VIOLATION CODE</th>\n",
       "    </tr>\n",
       "  </thead>\n",
       "  <tbody>\n",
       "    <tr>\n",
       "      <th>0</th>\n",
       "      <td>BRONX</td>\n",
       "      <td>Non-food contact surface improperly constructe...</td>\n",
       "      <td>10F</td>\n",
       "    </tr>\n",
       "    <tr>\n",
       "      <th>1</th>\n",
       "      <td>BROOKLYN</td>\n",
       "      <td>Non-food contact surface improperly constructe...</td>\n",
       "      <td>10F</td>\n",
       "    </tr>\n",
       "    <tr>\n",
       "      <th>2</th>\n",
       "      <td>MANHATTAN</td>\n",
       "      <td>Non-food contact surface improperly constructe...</td>\n",
       "      <td>10F</td>\n",
       "    </tr>\n",
       "    <tr>\n",
       "      <th>3</th>\n",
       "      <td>QUEENS</td>\n",
       "      <td>Non-food contact surface improperly constructe...</td>\n",
       "      <td>10F</td>\n",
       "    </tr>\n",
       "    <tr>\n",
       "      <th>4</th>\n",
       "      <td>STATEN ISLAND</td>\n",
       "      <td>Non-food contact surface improperly constructe...</td>\n",
       "      <td>10F</td>\n",
       "    </tr>\n",
       "  </tbody>\n",
       "</table>\n",
       "</div>"
      ],
      "text/plain": [
       "  CUISINE DESCRIPTION                              VIOLATION DESCRIPTION  \\\n",
       "0               BRONX  Non-food contact surface improperly constructe...   \n",
       "1            BROOKLYN  Non-food contact surface improperly constructe...   \n",
       "2           MANHATTAN  Non-food contact surface improperly constructe...   \n",
       "3              QUEENS  Non-food contact surface improperly constructe...   \n",
       "4       STATEN ISLAND  Non-food contact surface improperly constructe...   \n",
       "\n",
       "  VIOLATION CODE  \n",
       "0            10F  \n",
       "1            10F  \n",
       "2            10F  \n",
       "3            10F  \n",
       "4            10F  "
      ]
     },
     "metadata": {},
     "output_type": "display_data"
    }
   ],
   "source": [
    "df_wo_m=df[df.BORO != \"Missing\"]\n",
    "\n",
    "boroViolations=pd.crosstab( df_wo_m['BORO'], df_wo_m['VIOLATION DESCRIPTION'] )\n",
    "mostCommonViolationCode=boroViolations.idxmax(axis=1).rename_axis('CUISINE DESCRIPTION').reset_index(name='VIOLATION DESCRIPTION')\n",
    "violationDictionary=df[['VIOLATION CODE','VIOLATION DESCRIPTION']].drop_duplicates()\n",
    "mostCommonViolationCode=mostCommonViolationCode.merge(violationDictionary , on='VIOLATION DESCRIPTION' , how='left' )\n",
    "\n",
    "display(mostCommonViolationCode)"
   ]
  },
  {
   "cell_type": "markdown",
   "metadata": {},
   "source": [
    "### Q12: What are the most common violations per borough,after normalizing for the relative abundance of each violation? \n",
    "\n",
    "\n",
    "<hr>\n",
    "<b>We have submitted two solutions for this problem <ul><li>Solution 1 : Following logic specified in question</li><li>Solution 2 : Using the inbuilt normalization parameter in crosstab function.</li></ul></b>\n",
    "\n",
    "<hr>\n",
    "<b>Approach 1: Logic in specified question</b> <br>\n",
    "<ul>\n",
    "    <li><code>violationFrequency</code>Total frequency of violations across compplete origin dataframe df</li>\n",
    "    <li><code>boroViolations</code> Use dataframe calculated in Q11. Indicating frequency of each type of violation in each BORO.</li>\n",
    "    <li><code>boroViolations</code> values divided with respective total frequencies given by <code>violationFrequency</code>. This normalizes the matrix</li>\n",
    "    <li><code>mostCommonViolationCode</code> display the maximum Viloation Code and Violation Description for maximum value after normalization</li>\n",
    "</ul>\n",
    "\n",
    "<b>Approach 2: Inbuilt parameter</b> <br>\n",
    "<ul>\n",
    "    <li><code>normalize=\"index\"</code> Pass this parameter in the crossrav function. </li>\n",
    "    <li><code>mostCommonViolationCode</code> display the maximum Viloation Code and Violation Description for maximum value after normalization</li>\n",
    "</ul>\n",
    "<b>Note: We do not consider records with Missing BORO value</b>"
   ]
  },
  {
   "cell_type": "code",
   "execution_count": 52,
   "metadata": {},
   "outputs": [
    {
     "name": "stdout",
     "output_type": "stream",
     "text": [
      "---------------------------------------------------------------------------------------------------------\n",
      "Solution 1 : Output\n"
     ]
    },
    {
     "data": {
      "text/html": [
       "<div>\n",
       "<style scoped>\n",
       "    .dataframe tbody tr th:only-of-type {\n",
       "        vertical-align: middle;\n",
       "    }\n",
       "\n",
       "    .dataframe tbody tr th {\n",
       "        vertical-align: top;\n",
       "    }\n",
       "\n",
       "    .dataframe thead th {\n",
       "        text-align: right;\n",
       "    }\n",
       "</style>\n",
       "<table border=\"1\" class=\"dataframe\">\n",
       "  <thead>\n",
       "    <tr style=\"text-align: right;\">\n",
       "      <th></th>\n",
       "      <th>CUISINE DESCRIPTION</th>\n",
       "      <th>VIOLATION DESCRIPTION</th>\n",
       "      <th>VIOLATION CODE</th>\n",
       "    </tr>\n",
       "  </thead>\n",
       "  <tbody>\n",
       "    <tr>\n",
       "      <th>0</th>\n",
       "      <td>BRONX</td>\n",
       "      <td>Unprotected food re-served.</td>\n",
       "      <td>04I</td>\n",
       "    </tr>\n",
       "    <tr>\n",
       "      <th>1</th>\n",
       "      <td>BROOKLYN</td>\n",
       "      <td>Precooked potentially hazardous food from comm...</td>\n",
       "      <td>02D</td>\n",
       "    </tr>\n",
       "    <tr>\n",
       "      <th>2</th>\n",
       "      <td>MANHATTAN</td>\n",
       "      <td>Out-of package sale of tobacco products observed.</td>\n",
       "      <td>15E</td>\n",
       "    </tr>\n",
       "    <tr>\n",
       "      <th>3</th>\n",
       "      <td>QUEENS</td>\n",
       "      <td>Caloric content range (minimum to maximum) not...</td>\n",
       "      <td>16E</td>\n",
       "    </tr>\n",
       "    <tr>\n",
       "      <th>4</th>\n",
       "      <td>STATEN ISLAND</td>\n",
       "      <td>Eggs found dirty/cracked; liquid, frozen or po...</td>\n",
       "      <td>03C</td>\n",
       "    </tr>\n",
       "  </tbody>\n",
       "</table>\n",
       "</div>"
      ],
      "text/plain": [
       "  CUISINE DESCRIPTION                              VIOLATION DESCRIPTION  \\\n",
       "0               BRONX                        Unprotected food re-served.   \n",
       "1            BROOKLYN  Precooked potentially hazardous food from comm...   \n",
       "2           MANHATTAN  Out-of package sale of tobacco products observed.   \n",
       "3              QUEENS  Caloric content range (minimum to maximum) not...   \n",
       "4       STATEN ISLAND  Eggs found dirty/cracked; liquid, frozen or po...   \n",
       "\n",
       "  VIOLATION CODE  \n",
       "0            04I  \n",
       "1            02D  \n",
       "2            15E  \n",
       "3            16E  \n",
       "4            03C  "
      ]
     },
     "metadata": {},
     "output_type": "display_data"
    },
    {
     "name": "stdout",
     "output_type": "stream",
     "text": [
      "---------------------------------------------------------------------------------------------------------\n",
      "Solution 2 : Output\n"
     ]
    },
    {
     "data": {
      "text/html": [
       "<div>\n",
       "<style scoped>\n",
       "    .dataframe tbody tr th:only-of-type {\n",
       "        vertical-align: middle;\n",
       "    }\n",
       "\n",
       "    .dataframe tbody tr th {\n",
       "        vertical-align: top;\n",
       "    }\n",
       "\n",
       "    .dataframe thead th {\n",
       "        text-align: right;\n",
       "    }\n",
       "</style>\n",
       "<table border=\"1\" class=\"dataframe\">\n",
       "  <thead>\n",
       "    <tr style=\"text-align: right;\">\n",
       "      <th></th>\n",
       "      <th>BORO</th>\n",
       "      <th>0</th>\n",
       "    </tr>\n",
       "  </thead>\n",
       "  <tbody>\n",
       "    <tr>\n",
       "      <th>0</th>\n",
       "      <td>BRONX</td>\n",
       "      <td>Unprotected food re-served.</td>\n",
       "    </tr>\n",
       "    <tr>\n",
       "      <th>1</th>\n",
       "      <td>BROOKLYN</td>\n",
       "      <td>Precooked potentially hazardous food from comm...</td>\n",
       "    </tr>\n",
       "    <tr>\n",
       "      <th>2</th>\n",
       "      <td>MANHATTAN</td>\n",
       "      <td>Out-of package sale of tobacco products observed.</td>\n",
       "    </tr>\n",
       "    <tr>\n",
       "      <th>3</th>\n",
       "      <td>QUEENS</td>\n",
       "      <td>Caloric content range (minimum to maximum) not...</td>\n",
       "    </tr>\n",
       "    <tr>\n",
       "      <th>4</th>\n",
       "      <td>STATEN ISLAND</td>\n",
       "      <td>Eggs found dirty/cracked; liquid, frozen or po...</td>\n",
       "    </tr>\n",
       "  </tbody>\n",
       "</table>\n",
       "</div>"
      ],
      "text/plain": [
       "            BORO                                                  0\n",
       "0          BRONX                        Unprotected food re-served.\n",
       "1       BROOKLYN  Precooked potentially hazardous food from comm...\n",
       "2      MANHATTAN  Out-of package sale of tobacco products observed.\n",
       "3         QUEENS  Caloric content range (minimum to maximum) not...\n",
       "4  STATEN ISLAND  Eggs found dirty/cracked; liquid, frozen or po..."
      ]
     },
     "metadata": {},
     "output_type": "display_data"
    }
   ],
   "source": [
    "#Solution 1\n",
    "violationFrequency=df_wo_m['VIOLATION DESCRIPTION'].value_counts().rename_axis('VIOLATION DESCRIPTION').reset_index(name='total')\n",
    "\n",
    "for violation_description in violationFrequency['VIOLATION DESCRIPTION']:\n",
    "    totalviolations=violationFrequency[violationFrequency['VIOLATION DESCRIPTION']==violation_description]['total']\n",
    "    boroViolations[violation_description]=boroViolations[violation_description]/totalviolations.item()\n",
    "\n",
    "\n",
    "mostCommonViolationCode=boroViolations.idxmax(axis=1).rename_axis('CUISINE DESCRIPTION').reset_index(name='VIOLATION DESCRIPTION')\n",
    "violationDictionary=df[['VIOLATION CODE','VIOLATION DESCRIPTION']].drop_duplicates()\n",
    "mostCommonViolationCode=mostCommonViolationCode.merge(violationDictionary , on='VIOLATION DESCRIPTION' , how='left' )\n",
    "print('---'*35)\n",
    "print('Solution 1 : Output')\n",
    "display(mostCommonViolationCode)\n",
    "\n",
    "\n",
    "clean_df_duplicates=df[df.BORO != \"Missing\"]\n",
    "mostCommonViolationCode=pd.crosstab(index = clean_df_duplicates[\"VIOLATION DESCRIPTION\"],columns=clean_df_duplicates[\"BORO\"],\n",
    "margins = True,normalize=\"index\").idxmax()\n",
    "print('---'*35)\n",
    "print('Solution 2 : Output')\n",
    "display(mostCommonViolationCode.reset_index())\n",
    "\n",
    "\n",
    "#Solution 2"
   ]
  },
  {
   "cell_type": "markdown",
   "metadata": {},
   "source": [
    "### Q13: How many phone area codes correspond to a singlezipcode?\n",
    "\n",
    "<b>Approach: </b> <br>\n",
    "<ul>\n",
    "    <li><code>zippcode_phone_df</code> Dataframe with only two columns, zipcode and phone</li>\n",
    "    <li><code>zippcode_phone_df['AREA_CODE']</code> Add areacode column as removing the first 3 digits of the phone number</li>\n",
    "    <li><code>areacode_zipcode_counts</code> Is created as a result of grouping the <code>zippcode_phone_df</code> with area code and counting the number of zipcodes against it</li>\n",
    "    <li><code>areacode_unique_zipcode</code> area_codes with only one count of zip codes against them are filtered from <code>areacode_zipcode_counts</code> </li>\n",
    "</ul>\n"
   ]
  },
  {
   "cell_type": "code",
   "execution_count": 53,
   "metadata": {},
   "outputs": [
    {
     "name": "stdout",
     "output_type": "stream",
     "text": [
      "Number of AREA CODES associated with just 1 ZIPCODE is :  34\n"
     ]
    }
   ],
   "source": [
    "zippcode_phone_df=df[['ZIPCODE','PHONE']].copy()  \n",
    "zippcode_phone_df=zippcode_phone_df.drop_duplicates()\n",
    "zippcode_phone_df['AREA_CODE']=zippcode_phone_df['PHONE'].astype(str).str[0:3]\n",
    "areacode_zipcode_counts=zippcode_phone_df.groupby('AREA_CODE').count().reset_index()\n",
    "areacode_unique_zipcode=areacode_zipcode_counts[areacode_zipcode_counts['ZIPCODE']==1]\n",
    "\n",
    "#display(areacode_unique_zipcode)\n",
    "print('Number of AREA CODES associated with just 1 ZIPCODE is : ' ,len(areacode_unique_zipcode))"
   ]
  },
  {
   "cell_type": "markdown",
   "metadata": {},
   "source": [
    "### Q14: Find the most commonly street type that occurs with each of the following:    AVE, ST, RD, PL , BOULEARD and BULEVARD.\n",
    "\n",
    "<b>Approach: </b> <br>\n",
    "<ul>\n",
    "    <li><code>df_duplicates</code> Dataframe with unique restauraunts</li>\n",
    "    <li><code>df_base_zip_combined</code> Dataframe consisting of the following columns : <ul><li>STREET TYPE - Last word from STREET column in origin dataframe df</li><li>STREET BASE - All but the last word from STREET column in origin dataframe df</li><li>STREET BASE AND ZIP - Concatenation of STREET BASE and ZIPCODE columns from <code>df_base_zip_combined</code> and <code>df_duplicates</code> dataframes respectively </li></ul></li>\n",
    "    <li><code>df_base_zip_combined_merged</code> is self merged. To get the mapping  between the STREET TYPE variables </li>\n",
    "    <li><code>df_base_zip_combined_merged_uniques</code> remove when STREET TYPE is mapped to the same STREET TYPE after the self join</li>\n",
    "    <li><code>cross_table</code> Do a crosstable function and display values for streetnames specified in question.</li>\n",
    "</ul>"
   ]
  },
  {
   "cell_type": "code",
   "execution_count": 54,
   "metadata": {},
   "outputs": [
    {
     "data": {
      "text/plain": [
       "STREET TYPE_y\n",
       "AVE         AVENUE\n",
       "ST          STREET\n",
       "RD            ROAD\n",
       "PL           PLACE\n",
       "BOULEARD      BLVD\n",
       "BULEVARD      BLVD\n",
       "dtype: object"
      ]
     },
     "metadata": {},
     "output_type": "display_data"
    }
   ],
   "source": [
    "df_duplicates=df.drop_duplicates(subset = \"RESTAURANT\")\n",
    "df_base_zip_combined=pd.DataFrame()\n",
    "\n",
    "street_type=df_duplicates[\"STREET\"].str.split().str[-1]\n",
    "street_base=df_duplicates[\"STREET\"].str.split(\" \",1).str[0]\n",
    "\n",
    "\n",
    "df_base_zip_combined[\"STREET TYPE\"]=street_type\n",
    "df_base_zip_combined[\"STREET BASE\"]=street_base\n",
    "df_base_zip_combined[\"STREET BASE AND ZIP\"]=df_base_zip_combined[\"STREET BASE\"]+ [\" \"] +df_duplicates[\"ZIPCODE\"]\n",
    "\n",
    "df_base_zip_combined=df_base_zip_combined.drop_duplicates()\n",
    "df_base_zip_combined=df_base_zip_combined[df_base_zip_combined['STREET BASE'] != '']\n",
    "\n",
    "df_base_zip_combined_merged=df_base_zip_combined.merge(df_base_zip_combined, on='STREET BASE AND ZIP')\n",
    "df_base_zip_combined_merged_uniques=df_base_zip_combined_merged['STREET TYPE_x']!=df_base_zip_combined_merged['STREET TYPE_y']\n",
    "final_table=df_base_zip_combined_merged[df_base_zip_combined_merged_uniques]\n",
    "cross_table=pd.crosstab(index=final_table[\"STREET TYPE_x\"],\n",
    "            columns=final_table[\"STREET TYPE_y\"])\n",
    "display(cross_table.idxmax()[[\"AVE\", \"ST\", \"RD\", \"PL\", \"BOULEARD\", \"BULEVARD\"]])"
   ]
  },
  {
   "cell_type": "markdown",
   "metadata": {},
   "source": [
    "### END OF ASSIGNMENT"
   ]
  }
 ],
 "metadata": {
  "kernelspec": {
   "display_name": "Python 3",
   "language": "python",
   "name": "python3"
  },
  "language_info": {
   "codemirror_mode": {
    "name": "ipython",
    "version": 3
   },
   "file_extension": ".py",
   "mimetype": "text/x-python",
   "name": "python",
   "nbconvert_exporter": "python",
   "pygments_lexer": "ipython3",
   "version": "3.7.6"
  }
 },
 "nbformat": 4,
 "nbformat_minor": 4
}
