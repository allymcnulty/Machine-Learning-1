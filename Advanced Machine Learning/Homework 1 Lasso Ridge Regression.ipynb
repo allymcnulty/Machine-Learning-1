{
 "cells": [
  {
   "cell_type": "markdown",
   "metadata": {
    "id": "evHVxwk2JA-3"
   },
   "source": [
    "# <p style=\"text-align: center;\">MIS 382N: Advanced Machine Learning</p>\n",
    "# <p style=\"text-align: center;\">Homework 1</p>\n",
    "\n"
   ]
  },
  {
   "cell_type": "markdown",
   "metadata": {
    "id": "TWWU_gOSLEEv"
   },
   "source": [
    "# Question 1: MLOps (10 pts)\n",
    "Read this [article](https://towardsdatascience.com/what-is-mlops-everything-you-must-know-to-get-started-523f2d0b8bd8) \"What is MLOps — Everything You Must Know to Get Started\", which gives a quick walkthrough of the machine learning development lifecycle and explains how MLOps come into play, or watch this [video](https://www.youtube.com/watch?v=06-AZXmwHjo) which you may find interesting.\n",
    "\n",
    "1. (**4 pts**) Use your own words to describe what MLOps is, and what challenges MLOps address. Limit your answer to one paragraph.\n",
    "\n",
    "2. (**6 pts**) Describe what the main phases in MLOps are. Your answer should be 2-3 paragraphs.\n",
    "\n",
    "\n",
    "## Answer:"
   ]
  },
  {
   "cell_type": "markdown",
   "metadata": {},
   "source": [
    "1. Use your own words to describe what MLOps is, and what challenges MLOps address. Limit your answer to one paragraph.\n",
    "\n",
    "MLOPs stands for Machine Learning Operations and it is an engineering field that works to bring together machine learning system development and deployment. The goal is to standardize the constant delivery of high performing machine learning models. Several teams are involved with MLOps including the product, data engineering, data science, and IT teams. MLOps faces many challenges including a shortage of human capital, ML processes not being able to adapt to changing business needs due to dependencies in the processes, technical and businesss teams not communicating effectively, and the difficulty of assessing the risk associated with applying ML systems. \n",
    "\n",
    "2. Describe what the main phases in MLOps are. Your answer should be 2-3 paragraphs.\n",
    "MLOps is made up of 7 main phases. These phases include: Framing ML problems from business objectives, Architect ML and data solutions for the problem, data preperation and processing,model training and experimentation, building and automating ML pipelines, deploying models to the production system, and monitor, optimize, and maintain models. \n",
    "\n",
    "The first phase Framing ML problems from business objectives includes defining the problem or goal that the ML model is aiming to address/meet. These objectives include performance measures,technical requirements,budget, and general KPIs that will guide the monitoring process after the models are deployed. The next phase Architect ML and data solutions for the problem includes searching for input data and models that are appropriate for the data. The data preperation and processing model is part of the data engineering process and includes feature engineering, cleaning, and selecting the set of features that will affect the output of the problem the model is trying to solve. The next phase Model training and experimentation includes training the ML model and running several different types of models to see which model is best suited for the data and business goal. This step also includes testing the model, checking the model against baselines, and scaling the model. The fifth step Building and Automating ML Pipelines includes identifying system requirements, choosing a hybrid or multi-cloud cloud architecture, building training and testing pipelines, tracking and auditing the pipeline runs, and finally performing data validation. The sixth step Deploying Models to the Production System includes either using a static deployment or a dynamic deployment. A static deployment packages the model into installable application software and them deploys it. Dynamic deployment deploys the model using a web framework and is offered as an API endpoint to user requests.Finally the the last step Monitor, Optimize, and Maintain models includes ensuring that the entire model remains in production. This is accomplished by keeping track of performance and quality of model predictions, establishing logging strategies and evaluation metrics, troubleshooting failures and biases in the system, and tuning the model performance in training and serving pipelines that were deployed in production. \n"
   ]
  },
  {
   "cell_type": "markdown",
   "metadata": {
    "id": "wusA9L1LmUMH"
   },
   "source": [
    "# Question 2: Applications of Machine Learning (5 pts)\n",
    "Read this [article](https://builtin.com/data-science/data-science-applications-examples) \"17 Data Science Applications & Examples\" and pick one of the data science systems used by various organizations according to this blog. \n",
    "\n",
    "For this system you have chosen, answer the following questions. Please limit your answer to one paragraph:\n",
    "\n",
    "1. What kind of machine learning problem is involved (e.g. classification, regression, clustering, outlier detection,...) in this system?\n",
    "2. Speculate on what kind of data may be needed and how the results can be useful to the organization.\n",
    "3. What do you think are the ethical implications of using machine learning in a domain like this?\n",
    "\n",
    "## Answer:"
   ]
  },
  {
   "cell_type": "markdown",
   "metadata": {},
   "source": [
    "1. What kind of machine learning problem is involved (e.g. classification, regression, clustering, outlier detection,...) in this system?\n",
    "\n",
    "The machine learning problem for the Streetlight Data involves identifying traffic patterns for cars, bikes, and pedestrians on the roads. This system seems to use a clustering model to group the various travelers and understand their movement. By clustering these groups of people, the system can further identify high traffic areas by the types of commuters and make predictions for traffic, alternate routes, streetlight frequencies and many other factors involved in city planning. \n",
    "\n",
    "2. Speculate on what kind of data may be needed and how the results can be useful to the organization.\n",
    "\n",
    "Some of the data that would be important is the number of commuters at any given hour of the day, regions of high traffic, mode of transportation for commuters, popular modes of travel in regions. This data is important for the system to be able to understand commuter patterns and identify priorities in city plans such as potential bus routes, street lights, and road condition maintenance.\n",
    "\n",
    "3. What do you think are the ethical implications of using machine learning in a domain like this?\n",
    "\n",
    "The ethical implications is that all data from phones and GPS systems is being taken advantage of by the company to build these systems. This is an invasion of privacy since it is essentially tracking where people are at every moment of the day. This data could easily be misused to stalk people and potentially put people in dangerous situations. Moreover, many people are most likely not aware that their data from their GPS devices is being used for such activity. \n"
   ]
  },
  {
   "cell_type": "markdown",
   "metadata": {
    "id": "2w8za9lLmVO7"
   },
   "source": [
    "# Question 3: Simpson's Paradox (10 pts)\n",
    "A data scientist should be careful about drawing unwarranted conclusions about any data that is presented. One of the 'gotchas' that can happen even in apparently very simple tabular summaries, is called Simpson's paradox.\n",
    "\n",
    "Read this [article](https://www.covid-datascience.com/post/israeli-data-how-can-efficacy-vs-severe-disease-be-strong-when-60-of-hospitalized-are-vaccinated), which explains why the computed efficacy of the Pfizer vaccine is misleadingly low (67.5%) when you lump all people together, but once you stratify people by age (which is the right thing to do), you get much higher efficacy numbers.\n",
    "\n",
    "1.(**5 pts**) Explain in your own words what Simpson's paradox is, and how this 'paradox' can happen in real data.\n",
    "\n",
    "2.(**5 pts**) Find and mention another example of Simpson's paradox (but not any of the 3 examples given in the Wikipedia entry for 'Simpson's paradox'), state why the paradox appeared in your chosen example. Also give a reference (URL) to your source for the chosen example.\n",
    "\n",
    "## Answer:"
   ]
  },
  {
   "cell_type": "markdown",
   "metadata": {},
   "source": [
    "1. Explain in your own words what Simpson's paradox is, and how this 'paradox' can happen in real data.\n",
    "\n",
    "Simpson's paradox is a phenomenon that can occur when confounding factors in an observational data set lead to misleading results when the data is interpreted as a whole without any stratfication or analysis of the effect of these confounding factors. \n",
    "\n",
    "2. Find and mention another example of Simpson's paradox (but not any of the 3 examples given in the Wikipedia entry for 'Simpson's paradox'), state why the paradox appeared in your chosen example. Also give a reference (URL) to your source for the chosen example.\n",
    "\n",
    "Another example of Simpson's paradox is present in the study of the math results from the National Assessment of Education Progress (NAEP) over two decades from 1992 to 2012. The NAEP administered the only nationally representative exam measuring student learning from 1992 to 2012 and found that math scores did not increase for all 17-year olds between 1992 and 2012. This could lead researchers to conclude that 17 year olds were not learning anymore math in 2012 then they were in 1992. However, when the data is stratfied to break down by race between white students, black students, and Hispanic students, it showed that the average test scores rose for all of these groups between 1992 to 2012. The confounding factor to data is how the composition of students changed over the two decades. In 1992, 75 percent of the students were white, 15 percent were black, and 7 percent were Hispanic. By 2012, 57 percent were white, 13 percent were black, and 22 percent were Hispanic. The increase in progress for each group is not visible in the overall results because the black and Hispanic students had lower average scores. This is why the paradox appeared in this example. \n",
    "\n",
    "URL: https://www.brookings.edu/blog/social-mobility-memos/2015/07/29/when-average-isnt-good-enough-simpsons-paradox-in-education-and-earnings/\n",
    "\n"
   ]
  },
  {
   "cell_type": "markdown",
   "metadata": {
    "id": "gth0D8jiMBSe"
   },
   "source": [
    "# Question 4: Ridge and Lasso Regression (30 pts)\n",
    "\n",
    "Download the dataset **Admission.csv** from Canvas and use the following codes to import the Admission dataset in Python. \n",
    "\n",
    "There are 7 features in the dataset:\n",
    "\n",
    "1. GRE score\n",
    "2. TOEFL score\n",
    "3. University Rating\n",
    "4. SOP(Statement of Purpose)\n",
    "5. LOR(Letter of Recommendation)\n",
    "6. CGPA\n",
    "7. Research\n",
    "\n",
    "And the target is **Chance of Admission**."
   ]
  },
  {
   "cell_type": "code",
   "execution_count": 1,
   "metadata": {
    "id": "QFazlpLgGpAa"
   },
   "outputs": [],
   "source": [
    "# # Only use this code block if you are using Google Colab.\n",
    "# # If you are using Jupyter Notebook, please ignore this code block. You can directly upload the file to your Jupyter Notebook file systems.\n",
    "# from google.colab import files\n",
    "\n",
    "# ## It will prompt you to select a local file. Click on “Choose Files” then select and upload the file. \n",
    "# ## Wait for the file to be 100% uploaded. You should see the name of the file once Colab has uploaded it.\n",
    "# uploaded = files.upload()"
   ]
  },
  {
   "cell_type": "code",
   "execution_count": 2,
   "metadata": {
    "id": "xsPaOOehGuU6"
   },
   "outputs": [],
   "source": [
    "# Codes below will work for both Google Colab and Jupyter Notebook.\n",
    "import numpy as np\n",
    "import pandas as pd\n",
    "import random\n",
    "from sklearn import linear_model\n",
    "from sklearn.metrics import mean_absolute_error, mean_squared_error\n",
    "from sklearn.linear_model import LogisticRegression\n",
    "\n",
    "## Load the dataset into pandas DataFrame\n",
    "df = pd.read_csv('Admission.csv', index_col=0)\n",
    "df = df.replace([np.inf, -np.inf], np.nan) # \n",
    "df = df.fillna(0) # Replace all the NaN values with 0"
   ]
  },
  {
   "cell_type": "code",
   "execution_count": 3,
   "metadata": {
    "id": "PmMz72U6Gv-z"
   },
   "outputs": [
    {
     "data": {
      "text/plain": [
       "Index(['GRE_Score', 'TOEFL_Score', 'University_Rating', 'SOP', 'LOR ', 'CGPA',\n",
       "       'Research', 'Chance_of_Admit'],\n",
       "      dtype='object')"
      ]
     },
     "execution_count": 3,
     "metadata": {},
     "output_type": "execute_result"
    }
   ],
   "source": [
    "df.columns # Show you all the columns in this file"
   ]
  },
  {
   "cell_type": "code",
   "execution_count": 4,
   "metadata": {
    "id": "CyZN-yFfGxlt"
   },
   "outputs": [
    {
     "data": {
      "text/html": [
       "<div>\n",
       "<style scoped>\n",
       "    .dataframe tbody tr th:only-of-type {\n",
       "        vertical-align: middle;\n",
       "    }\n",
       "\n",
       "    .dataframe tbody tr th {\n",
       "        vertical-align: top;\n",
       "    }\n",
       "\n",
       "    .dataframe thead th {\n",
       "        text-align: right;\n",
       "    }\n",
       "</style>\n",
       "<table border=\"1\" class=\"dataframe\">\n",
       "  <thead>\n",
       "    <tr style=\"text-align: right;\">\n",
       "      <th></th>\n",
       "      <th>GRE_Score</th>\n",
       "      <th>TOEFL_Score</th>\n",
       "      <th>University_Rating</th>\n",
       "      <th>SOP</th>\n",
       "      <th>LOR</th>\n",
       "      <th>CGPA</th>\n",
       "      <th>Research</th>\n",
       "      <th>Chance_of_Admit</th>\n",
       "    </tr>\n",
       "    <tr>\n",
       "      <th>Serial No.</th>\n",
       "      <th></th>\n",
       "      <th></th>\n",
       "      <th></th>\n",
       "      <th></th>\n",
       "      <th></th>\n",
       "      <th></th>\n",
       "      <th></th>\n",
       "      <th></th>\n",
       "    </tr>\n",
       "  </thead>\n",
       "  <tbody>\n",
       "    <tr>\n",
       "      <th>1</th>\n",
       "      <td>337</td>\n",
       "      <td>118</td>\n",
       "      <td>4</td>\n",
       "      <td>4.5</td>\n",
       "      <td>4.5</td>\n",
       "      <td>9.65</td>\n",
       "      <td>1</td>\n",
       "      <td>0.92</td>\n",
       "    </tr>\n",
       "    <tr>\n",
       "      <th>2</th>\n",
       "      <td>324</td>\n",
       "      <td>107</td>\n",
       "      <td>4</td>\n",
       "      <td>4.0</td>\n",
       "      <td>4.5</td>\n",
       "      <td>8.87</td>\n",
       "      <td>1</td>\n",
       "      <td>0.76</td>\n",
       "    </tr>\n",
       "    <tr>\n",
       "      <th>3</th>\n",
       "      <td>316</td>\n",
       "      <td>104</td>\n",
       "      <td>3</td>\n",
       "      <td>3.0</td>\n",
       "      <td>3.5</td>\n",
       "      <td>8.00</td>\n",
       "      <td>1</td>\n",
       "      <td>0.72</td>\n",
       "    </tr>\n",
       "    <tr>\n",
       "      <th>4</th>\n",
       "      <td>322</td>\n",
       "      <td>110</td>\n",
       "      <td>3</td>\n",
       "      <td>3.5</td>\n",
       "      <td>2.5</td>\n",
       "      <td>8.67</td>\n",
       "      <td>1</td>\n",
       "      <td>0.80</td>\n",
       "    </tr>\n",
       "    <tr>\n",
       "      <th>5</th>\n",
       "      <td>314</td>\n",
       "      <td>103</td>\n",
       "      <td>2</td>\n",
       "      <td>2.0</td>\n",
       "      <td>3.0</td>\n",
       "      <td>8.21</td>\n",
       "      <td>0</td>\n",
       "      <td>0.65</td>\n",
       "    </tr>\n",
       "  </tbody>\n",
       "</table>\n",
       "</div>"
      ],
      "text/plain": [
       "            GRE_Score  TOEFL_Score  University_Rating  SOP  LOR   CGPA  \\\n",
       "Serial No.                                                               \n",
       "1                 337          118                  4  4.5   4.5  9.65   \n",
       "2                 324          107                  4  4.0   4.5  8.87   \n",
       "3                 316          104                  3  3.0   3.5  8.00   \n",
       "4                 322          110                  3  3.5   2.5  8.67   \n",
       "5                 314          103                  2  2.0   3.0  8.21   \n",
       "\n",
       "            Research  Chance_of_Admit  \n",
       "Serial No.                             \n",
       "1                  1             0.92  \n",
       "2                  1             0.76  \n",
       "3                  1             0.72  \n",
       "4                  1             0.80  \n",
       "5                  0             0.65  "
      ]
     },
     "execution_count": 4,
     "metadata": {},
     "output_type": "execute_result"
    }
   ],
   "source": [
    "df.head() # Show you the first 5 rows in this file"
   ]
  },
  {
   "cell_type": "code",
   "execution_count": 5,
   "metadata": {
    "id": "S3TfR0i4G2rO"
   },
   "outputs": [],
   "source": [
    "y = df['Chance_of_Admit'] # The column named Chance_of_Admit is used as the target, and we store it in y\n",
    "X = df.drop(['Chance_of_Admit'], axis=1) # We keep the remaining columns as the features, and store them in x"
   ]
  },
  {
   "cell_type": "markdown",
   "metadata": {
    "id": "pKq1KERxJw9y"
   },
   "source": [
    "1)(**2 pts**) Split the data into a training set(75% of data) and a test set(25% of data), using the [train_test_split](https://scikit-learn.org/stable/modules/generated/sklearn.model_selection.train_test_split.html) function with random_state = 50. Then scale the data (not including target) so that each of the independent variables would have zero mean and unit variance. You can use the [sklearn.preprocessing.scale](https://scikit-learn.org/stable/modules/generated/sklearn.preprocessing.scale.html) function for this. Print the first 5 rows of the training set after scaling.\n",
    "\n",
    "2)(**5 pts**) Use [sklearn.linear_model.Lasso](https://scikit-learn.org/stable/modules/generated/sklearn.linear_model.Lasso.html) and [sklearn.linear_model.Ridge](https://scikit-learn.org/stable/modules/generated/sklearn.linear_model.Ridge.html) classes to do a **5-fold** cross validation using sklearn's KFold. For the sweep of the regularization parameter, we will look at a grid of values ranging from α=10^10 to α=10^−6. In Python, you can consider this range of values as follows: alpha = 10**numpy.linspace(6,-6,100) \n",
    "so that you can generate 100 uniform values between -6 to 6 as power series.\n",
    "\n",
    "Fit the 2 regression models with scaled data and report the best chosen **α** based on cross validation as well as the corresponding scoring metric. The cross validation should happen on your training data using **MSE** as the scoring metric.\n",
    "\n",
    "3)(**5 pts**) Run ridge and lasso regression for all of the **α** specified above (on training data), and plot the coefficients learned for each of them - there should be one plot each for lasso and ridge, so a total of two plots; different features' weights of each model should be on the same plot with different colors (3pts). \n",
    "\n",
    "What do you qualitatively observe when the value of the regularization parameter changes (2pts)? \n",
    "\n",
    "4)(**3 pts**) Take the exponential of Y_train as the target, and fit the 2 regression models again. Report the best chosen **α** based on cross validation as well as the corresponding scoring metric. Compare the results of using the original target with the results of using the exponential of the target. What do you observe? \n",
    "\n",
    "5)(**5 pts**) Similarly, use [sklearn.linear_model.ElasticNet](https://scikit-learn.org/stable/modules/generated/sklearn.linear_model.ElasticNet.html) to do linear regression with different **α** values, and plot the coefficients learned for each of them (2pts). Observe the plot, then explain the pros and cons of ridge, lasso and Elastic Net models (3pts).\n",
    "\n",
    "\n",
    "6)(**5 pts**) Run the following three regression models with **MSE** loss on the training data: \n",
    "\n",
    "a. linear regression without regularization (1pts)\n",
    "\n",
    "b. linear regression with ridge regularization (2pts)\n",
    "\n",
    "c. linear regression with lasso regularization (2pts)\n",
    "\n",
    "For part (b) and (c), use only the best regularization parameters. Report the MSE and R<sup>2</sup> on the test data for each model.\n",
    "\n",
    "7)(**5 pts**) Train the 3 models and report the metrics with the original data without scaling (3pts). \n",
    "\n",
    "Why do we need to scale the data before regularization (2pts)? \n",
    "\n",
    "## Answer:\n"
   ]
  },
  {
   "cell_type": "markdown",
   "metadata": {},
   "source": [
    "## Question 1"
   ]
  },
  {
   "cell_type": "code",
   "execution_count": 6,
   "metadata": {},
   "outputs": [],
   "source": [
    "from sklearn.model_selection import train_test_split\n",
    "from sklearn.preprocessing import scale"
   ]
  },
  {
   "cell_type": "code",
   "execution_count": 7,
   "metadata": {},
   "outputs": [
    {
     "data": {
      "text/plain": [
       "array([[ 1.52725374,  2.0917706 ,  1.61594354,  0.63150829,  1.72829095,\n",
       "         2.11370277,  0.90453403],\n",
       "       [ 0.74180896,  0.46308859, -0.9310778 , -0.35266047, -1.04140609,\n",
       "         0.29488827,  0.90453403],\n",
       "       [ 0.56726568,  0.13735218,  1.61594354,  0.63150829,  0.62041214,\n",
       "         0.26211684,  0.90453403],\n",
       "       [-0.39272239, -0.51412062, -0.08207069,  0.13942391,  0.62041214,\n",
       "        -0.80295471, -1.1055416 ],\n",
       "       [ 0.47999403,  0.78882499,  0.76693642,  1.12359267,  1.17435154,\n",
       "         1.11417408,  0.90453403]])"
      ]
     },
     "execution_count": 7,
     "metadata": {},
     "output_type": "execute_result"
    }
   ],
   "source": [
    "X_train, X_test, Y_train, Y_test = train_test_split(X, y, test_size=0.25, random_state=50)\n",
    "X_test = scale(X_test, axis=0, with_mean=True, with_std=True, copy=True)\n",
    "X_train = scale(X_train, axis=0, with_mean=True, with_std=True, copy=True)\n",
    "X_train[:5]"
   ]
  },
  {
   "cell_type": "code",
   "execution_count": 8,
   "metadata": {},
   "outputs": [],
   "source": [
    "from sklearn.model_selection import KFold\n",
    "n_splits = 5\n",
    "kf = KFold(n_splits=n_splits)"
   ]
  },
  {
   "cell_type": "markdown",
   "metadata": {},
   "source": [
    "## Question 2 "
   ]
  },
  {
   "cell_type": "markdown",
   "metadata": {},
   "source": [
    "### Lasso Regression"
   ]
  },
  {
   "cell_type": "code",
   "execution_count": 9,
   "metadata": {},
   "outputs": [
    {
     "name": "stdout",
     "output_type": "stream",
     "text": [
      "Lasso - Best Alpha: 0.001072267222010321\n",
      "Lasso - Min MSE: 0.004098425318055381\n"
     ]
    }
   ],
   "source": [
    "###Part 2 Lasso Regression\n",
    "\n",
    "from sklearn import linear_model\n",
    "from sklearn.metrics import mean_absolute_error, mean_squared_error\n",
    "\n",
    "alphas = 10**np.linspace(6,-6,100)\n",
    "lasso_dict = {}\n",
    "\n",
    "for a in alphas:\n",
    "    alpha_list = []\n",
    "    for train_index, test_index in kf.split(X_train):\n",
    "        x_train, x_test = X_train[train_index], X_train[test_index]\n",
    "        y_train, y_test = Y_train.iloc[train_index], Y_train.iloc[test_index]\n",
    "    \n",
    "        clf = linear_model.Lasso(random_state=50, max_iter=10000, alpha = a)\n",
    "        clf = clf.fit(x_train, y_train)\n",
    "\n",
    "        mse = mean_squared_error(y_test, clf.predict(x_test))\n",
    "        alpha_list.append(mse)\n",
    "    avg = sum(alpha_list) / len(alpha_list)\n",
    "    lasso_dict[a]= avg\n",
    "\n",
    "best_key_lasso = min(lasso_dict, key=lasso_dict.get)\n",
    "print(\"Lasso - Best Alpha:\", best_key_lasso)\n",
    "print(\"Lasso - Min MSE:\", min(lasso_dict.values()))"
   ]
  },
  {
   "cell_type": "markdown",
   "metadata": {},
   "source": [
    "### Ridge Regression"
   ]
  },
  {
   "cell_type": "code",
   "execution_count": 10,
   "metadata": {},
   "outputs": [
    {
     "name": "stdout",
     "output_type": "stream",
     "text": [
      "Ridge - Best Alpha: 4.641588833612772\n",
      "Ridge - Min MSE: 0.00411801388424071\n"
     ]
    }
   ],
   "source": [
    "###Part 2 Ridge Regression\n",
    "\n",
    "from sklearn import linear_model\n",
    "from sklearn.metrics import mean_absolute_error, mean_squared_error\n",
    "\n",
    "alphas = 10**np.linspace(6,-6,100)\n",
    "ridge_dict = {}\n",
    "\n",
    "for a in alphas:\n",
    "    alpha_list = []\n",
    "    for train_index, test_index in kf.split(X_train):\n",
    "        x_train, x_test = X_train[train_index], X_train[test_index]\n",
    "        y_train, y_test = Y_train.iloc[train_index], Y_train.iloc[test_index]\n",
    "\n",
    "        clf = linear_model.Ridge(random_state=50, max_iter=10000, alpha = a)\n",
    "        clf = clf.fit(x_train, y_train)\n",
    "\n",
    "        mse = mean_squared_error(y_test, clf.predict(x_test))\n",
    "        alpha_list.append(mse)\n",
    "    avg = sum(alpha_list) / len(alpha_list)\n",
    "    ridge_dict[a]= avg\n",
    "\n",
    "best_key_ridge = min(ridge_dict, key=ridge_dict.get)\n",
    "print('Ridge - Best Alpha:', best_key_ridge)\n",
    "print('Ridge - Min MSE:', min(ridge_dict.values()))"
   ]
  },
  {
   "cell_type": "markdown",
   "metadata": {},
   "source": [
    "## Question 3"
   ]
  },
  {
   "cell_type": "markdown",
   "metadata": {},
   "source": [
    "### Ridge Regression Plot"
   ]
  },
  {
   "cell_type": "code",
   "execution_count": 11,
   "metadata": {},
   "outputs": [
    {
     "data": {
      "image/png": "[encoded data removed]",
      "text/plain": [
       "<Figure size 432x288 with 1 Axes>"
      ]
     },
     "metadata": {
      "needs_background": "light"
     },
     "output_type": "display_data"
    }
   ],
   "source": [
    "### Part 3 Ridge Plot\n",
    "import matplotlib.pyplot as plt\n",
    "coef = []\n",
    "for a in alphas:\n",
    "    ridge = linear_model.Ridge(alpha=a,fit_intercept=True)\n",
    "    ridge.fit(X_train,Y_train)\n",
    "    coef.append(ridge.coef_)\n",
    "ax = plt.gca()\n",
    "ax.plot(alphas, coef)\n",
    "ax.set_xscale('log')\n",
    "plt.title('Ridge Regression')\n",
    "plt.show()"
   ]
  },
  {
   "cell_type": "markdown",
   "metadata": {},
   "source": [
    "### Lasso Plot"
   ]
  },
  {
   "cell_type": "code",
   "execution_count": 12,
   "metadata": {},
   "outputs": [
    {
     "data": {
      "image/png": "[encoded data removed]",
      "text/plain": [
       "<Figure size 432x288 with 1 Axes>"
      ]
     },
     "metadata": {
      "needs_background": "light"
     },
     "output_type": "display_data"
    }
   ],
   "source": [
    "### Part 3 Lasso Plot\n",
    "coef = []\n",
    "for a in alphas:\n",
    "    lasso = linear_model.Lasso(alpha=a,fit_intercept=True)\n",
    "    lasso.fit(X_train,Y_train)\n",
    "    coef.append(lasso.coef_)\n",
    "ax = plt.gca()\n",
    "ax.plot(alphas, coef)\n",
    "ax.set_xscale('log')\n",
    "plt.title('Lasso Regression')\n",
    "plt.show()"
   ]
  },
  {
   "cell_type": "markdown",
   "metadata": {},
   "source": [
    "#### What do you qualitatively observe when the value of the regularization parameter changes (2pts)?\n",
    "The lasso model penalizes the high coefficient values as the alpha value increases. The ridge model differs because as the alpha increases and the coefficients reach zero, the model never sets the value of the coefficient to zero. This leads to low variance and low bias in the ridge model.\n"
   ]
  },
  {
   "cell_type": "markdown",
   "metadata": {},
   "source": [
    "## Question 4"
   ]
  },
  {
   "cell_type": "code",
   "execution_count": 13,
   "metadata": {},
   "outputs": [
    {
     "data": {
      "text/plain": [
       "Serial No.\n",
       "204    2.637944\n",
       "265    2.117000\n",
       "339    2.247908\n",
       "262    2.033991\n",
       "217    2.484323\n",
       "         ...   \n",
       "133    2.033991\n",
       "290    2.203396\n",
       "110    1.973878\n",
       "396    2.270500\n",
       "177    2.459603\n",
       "Name: Chance_of_Admit, Length: 300, dtype: float64"
      ]
     },
     "execution_count": 13,
     "metadata": {},
     "output_type": "execute_result"
    }
   ],
   "source": [
    "### Part 4 \n",
    "_y_train = np.exp(Y_train)\n",
    "_y_train"
   ]
  },
  {
   "cell_type": "markdown",
   "metadata": {},
   "source": [
    "### Exponential Lasso"
   ]
  },
  {
   "cell_type": "code",
   "execution_count": 14,
   "metadata": {},
   "outputs": [
    {
     "name": "stdout",
     "output_type": "stream",
     "text": [
      "Lasso Exponential - Best Alpha: 0.0018738174228603867\n",
      "Lasso Exponential - Min MSE: 0.01476731964422993\n"
     ]
    }
   ],
   "source": [
    "### Part 4 Exponential Lasso\n",
    "lasso_dict_exp = {}\n",
    "\n",
    "for a in alphas:\n",
    "    alpha_list = []\n",
    "    for train_index, test_index in kf.split(X_train):\n",
    "        x_train, x_test = X_train[train_index], X_train[test_index]\n",
    "        y_train, y_test = _y_train.iloc[train_index], _y_train.iloc[test_index]\n",
    "\n",
    "        clf = linear_model.Lasso(random_state=50, max_iter=10000, alpha = a)\n",
    "        clf = clf.fit(x_train, y_train)\n",
    "\n",
    "        mse = mean_squared_error(y_test, clf.predict(x_test))\n",
    "        alpha_list.append(mse)\n",
    "    avg = sum(alpha_list) / len(alpha_list)\n",
    "    lasso_dict_exp[a]= avg\n",
    "\n",
    "best_key_lasso_exp = min(lasso_dict_exp, key=lasso_dict_exp.get)\n",
    "print(\"Lasso Exponential - Best Alpha:\", best_key_lasso_exp)\n",
    "print(\"Lasso Exponential - Min MSE:\", min(lasso_dict_exp.values()))"
   ]
  },
  {
   "cell_type": "markdown",
   "metadata": {},
   "source": [
    "### Exponential Ridge "
   ]
  },
  {
   "cell_type": "code",
   "execution_count": 15,
   "metadata": {},
   "outputs": [
    {
     "name": "stdout",
     "output_type": "stream",
     "text": [
      "Ridge Exponential - Best Alpha: 6.135907273413176\n",
      "Ridge Exponential - Min MSE: 0.014815008775351052\n"
     ]
    }
   ],
   "source": [
    "### Part 4 Exponential Ridge \n",
    "ridge_dict_exp = {}\n",
    "\n",
    "for a in alphas:\n",
    "    alpha_list = []\n",
    "    for train_index, test_index in kf.split(X_train):\n",
    "        x_train, x_test = X_train[train_index], X_train[test_index]\n",
    "        y_train, y_test = _y_train.iloc[train_index], _y_train.iloc[test_index]\n",
    "\n",
    "        clf = linear_model.Ridge(random_state=50, max_iter=10000, alpha = a)\n",
    "        clf = clf.fit(x_train, y_train)\n",
    "\n",
    "        mse = mean_squared_error(y_test, clf.predict(x_test))\n",
    "        alpha_list.append(mse)\n",
    "    avg = sum(alpha_list) / len(alpha_list)\n",
    "    ridge_dict_exp[a]= avg\n",
    "\n",
    "best_key_ridge_exp = min(ridge_dict_exp, key=ridge_dict_exp.get)\n",
    "print('Ridge Exponential - Best Alpha:',best_key_ridge_exp)\n",
    "print('Ridge Exponential - Min MSE:', min(ridge_dict_exp.values()))"
   ]
  },
  {
   "cell_type": "markdown",
   "metadata": {},
   "source": [
    "####  Compare the results of using the original target with the results of using the exponential of the target. What do you observe?\n",
    "\n",
    "The best alpha for the exponential ridge model was 6.13 and the smallest MSE was 0.015. The best alpha for the exponential lasso model was 0.002 and the smallest MSE was 0.015. Compared to the models without using the exponential y-train as the target, the best alpha for the lasso model was 0.001 and the smallest MSE was 0.004. The originial ridge model's best alpha value was 4.64 and the smallest MSE was 0.004. \n",
    "\n",
    "The results show that for both the ridge and lasso models the best alpha obtained and the smallest MSE values were larger when the models used the exponential y-train values as the target. "
   ]
  },
  {
   "cell_type": "markdown",
   "metadata": {},
   "source": [
    "## Question 5"
   ]
  },
  {
   "cell_type": "code",
   "execution_count": 16,
   "metadata": {},
   "outputs": [
    {
     "name": "stdout",
     "output_type": "stream",
     "text": [
      "Elastic - Best Alpha: 0.002477076355991714\n",
      "Elastic - Min MSE: 0.0040989685872616175\n"
     ]
    }
   ],
   "source": [
    "### Part 5 ElasticNet\n",
    "from sklearn.linear_model import ElasticNet\n",
    "\n",
    "elastic_dict = {}\n",
    "\n",
    "for a in alphas:\n",
    "    alpha_list = []\n",
    "    for train_index, test_index in kf.split(X_train):\n",
    "        x_train, x_test = X_train[train_index], X_train[test_index]\n",
    "        y_train, y_test = Y_train.iloc[train_index], Y_train.iloc[test_index]\n",
    "\n",
    "        clf = linear_model.ElasticNet(random_state=50, max_iter=10000, alpha = a)\n",
    "        clf = clf.fit(x_train, y_train)\n",
    "\n",
    "        mse = mean_squared_error(y_test, clf.predict(x_test))\n",
    "        alpha_list.append(mse)\n",
    "    avg = sum(alpha_list) / len(alpha_list)\n",
    "    elastic_dict[a]= avg\n",
    "\n",
    "best_key_elastic = min(elastic_dict, key=elastic_dict.get)\n",
    "print('Elastic - Best Alpha:',best_key_elastic)\n",
    "print('Elastic - Min MSE:',min(elastic_dict.values()))"
   ]
  },
  {
   "cell_type": "markdown",
   "metadata": {},
   "source": [
    "#### Observe the plot, then explain the pros and cons of ridge, lasso and Elastic Net models (3pts).\n",
    "Ridge regression leads to low variance and low bias by reducing the dependency of any one variabe for prediction but since it does not reduce the number of variables, this model is not the best for feature reduction. The Lasso regression model selects only important features by reducing the irrelevant features to zero which helps avoid overfitting. The disadvantage is that given multiple highly collinear variables, the model will only choose one when all might be important. Elastic net is a combination of both Lasso and Ridge which means that the model will keep all high collinear variables but this model is computationally more expensive."
   ]
  },
  {
   "cell_type": "markdown",
   "metadata": {},
   "source": [
    "## Question 6 "
   ]
  },
  {
   "cell_type": "markdown",
   "metadata": {},
   "source": [
    "### Linear Regression No Regularization"
   ]
  },
  {
   "cell_type": "code",
   "execution_count": 17,
   "metadata": {},
   "outputs": [
    {
     "name": "stdout",
     "output_type": "stream",
     "text": [
      "Linear Regression without Regularization MSE: 0.005200215496311308\n",
      "Linear Regression without Regularization R2: 0.6910288907914793\n"
     ]
    }
   ],
   "source": [
    "### Part 6 Linear Regression\n",
    "\n",
    "from sklearn.metrics import r2_score\n",
    "\n",
    "lm = linear_model.LinearRegression().fit(X_train,Y_train)\n",
    "print('Linear Regression without Regularization MSE:',mean_squared_error(Y_test, lm.predict(X_test)))\n",
    "print('Linear Regression without Regularization R2:',r2_score(Y_test, lm.predict(X_test)))\n"
   ]
  },
  {
   "cell_type": "markdown",
   "metadata": {},
   "source": [
    "### Lasso With Regularization"
   ]
  },
  {
   "cell_type": "code",
   "execution_count": 18,
   "metadata": {},
   "outputs": [
    {
     "name": "stdout",
     "output_type": "stream",
     "text": [
      "Linear Regression with Lasso Regularization MSE: 0.005169728551461909\n",
      "Linear Regression with Lasso Regularization R2: 0.6928402744107118\n"
     ]
    }
   ],
   "source": [
    "### Part 6 Lasso \n",
    "lasso = linear_model.Lasso(alpha=best_key_lasso).fit(X_train,Y_train)\n",
    "print('Linear Regression with Lasso Regularization MSE:',mean_squared_error(Y_test, lasso.predict(X_test)))\n",
    "print('Linear Regression with Lasso Regularization R2:',r2_score(Y_test, lasso.predict(X_test)))\n"
   ]
  },
  {
   "cell_type": "markdown",
   "metadata": {},
   "source": [
    "### Ridge With Regularization"
   ]
  },
  {
   "cell_type": "code",
   "execution_count": 19,
   "metadata": {},
   "outputs": [
    {
     "name": "stdout",
     "output_type": "stream",
     "text": [
      "Linear Regression with Ridge Regularization MSE: 0.005145734926702875\n",
      "Linear Regression with Ridge Regularization R2: 0.6942658570353147\n"
     ]
    }
   ],
   "source": [
    "### Part 6 Ridge\n",
    "ridge = linear_model.Ridge(alpha=best_key_ridge).fit(X_train,Y_train)\n",
    "print('Linear Regression with Ridge Regularization MSE:',mean_squared_error(Y_test, ridge.predict(X_test)))\n",
    "print('Linear Regression with Ridge Regularization R2:',r2_score(Y_test, ridge.predict(X_test)))"
   ]
  },
  {
   "cell_type": "markdown",
   "metadata": {},
   "source": [
    "## Question 7"
   ]
  },
  {
   "cell_type": "markdown",
   "metadata": {},
   "source": [
    "### Linear Regression No Scale"
   ]
  },
  {
   "cell_type": "code",
   "execution_count": 20,
   "metadata": {},
   "outputs": [
    {
     "name": "stdout",
     "output_type": "stream",
     "text": [
      "MSE Linear Model No Scale: 0.004526319242200028\n",
      "R2 Linear Model No Scale: 0.7310684763186412\n"
     ]
    }
   ],
   "source": [
    "### Part 7 Linear Model No Scale\n",
    "\n",
    "X_train2, X_test2, Y_train2, Y_test2 = train_test_split(X, y, test_size=0.25, random_state=50)\n",
    "\n",
    "lm = linear_model.LinearRegression().fit(X_train2,Y_train2)\n",
    "print('MSE Linear Model No Scale:',mean_squared_error(Y_test2, lm.predict(X_test2)))\n",
    "print('R2 Linear Model No Scale:',r2_score(Y_test2, lm.predict(X_test2)))"
   ]
  },
  {
   "cell_type": "markdown",
   "metadata": {},
   "source": [
    "### Lasso No Scale"
   ]
  },
  {
   "cell_type": "code",
   "execution_count": 21,
   "metadata": {},
   "outputs": [
    {
     "name": "stdout",
     "output_type": "stream",
     "text": [
      "Best Lasso Alpha No Scale: 0.0006135907273413163\n",
      "MSE Lasso Model No Scale: 0.004554495972017523\n",
      "R2 Lasso Model No Scale: 0.7293943542612467\n"
     ]
    }
   ],
   "source": [
    "### Part 7 Lasso Model No Scale\n",
    "\n",
    "alphas = 10**np.linspace(6,-6,100)\n",
    "lasso_dict = {}\n",
    "\n",
    "for a in alphas:\n",
    "    alpha_list = []\n",
    "    for train_index, test_index in kf.split(X_train2):\n",
    "        x_train2, x_test2 = X_train2.iloc[train_index], X_train2.iloc[test_index]\n",
    "        y_train2, y_test2 = Y_train2.iloc[train_index], Y_train2.iloc[test_index]\n",
    "\n",
    "        clf = linear_model.Lasso(random_state=50, max_iter=10000, alpha = a)\n",
    "        clf = clf.fit(x_train2, y_train2)\n",
    "\n",
    "        mse = mean_squared_error(y_test2, clf.predict(x_test2))\n",
    "        alpha_list.append(mse)\n",
    "    avg = sum(alpha_list) / len(alpha_list)\n",
    "    lasso_dict[a]= avg\n",
    "\n",
    "best_key_lasso_no_scale = min(lasso_dict, key=lasso_dict.get)\n",
    "print(\"Best Lasso Alpha No Scale:\", best_key_lasso_no_scale)\n",
    "\n",
    "lasso = linear_model.Lasso(alpha=best_key_lasso_no_scale).fit(X_train2,Y_train2)\n",
    "print('MSE Lasso Model No Scale:',mean_squared_error(Y_test2, lasso.predict(X_test2)))\n",
    "print('R2 Lasso Model No Scale:',r2_score(Y_test2, lasso.predict(X_test2)))"
   ]
  },
  {
   "cell_type": "markdown",
   "metadata": {},
   "source": [
    "### Ridge No Scale"
   ]
  },
  {
   "cell_type": "code",
   "execution_count": 22,
   "metadata": {},
   "outputs": [
    {
     "name": "stdout",
     "output_type": "stream",
     "text": [
      "Best Ridge Alpha No Scale: 756463.3275546291\n",
      "MSE Ridge No Scale: 0.015700682098639243\n",
      "R2 Ridge No Scale: 0.06714305074704052\n"
     ]
    }
   ],
   "source": [
    "### Part 7 Ridge Regression No Scale\n",
    "alphas = 10**np.linspace(6,-6,100)\n",
    "ridge_dict = {}\n",
    "\n",
    "for a in alphas:\n",
    "    alpha_list = []\n",
    "    for train_index, test_index in kf.split(X_train2):\n",
    "        x_train2, x_test2 = X_train2.iloc[train_index], X_train2.iloc[test_index]\n",
    "        y_train2, y_test2 = Y_train2.iloc[train_index], Y_train2.iloc[test_index]\n",
    "\n",
    "        clf = linear_model.Ridge(random_state=50, max_iter=10000, alpha = a)\n",
    "        clf = clf.fit(x_train, y_train2)\n",
    "\n",
    "        mse = mean_squared_error(y_test, clf.predict(x_test2))\n",
    "        alpha_list.append(mse)\n",
    "    avg = sum(alpha_list) / len(alpha_list)\n",
    "    ridge_dict[a]= avg\n",
    "\n",
    "best_key_ridge_no_scale = min(ridge_dict, key=ridge_dict.get)\n",
    "print(\"Best Ridge Alpha No Scale:\",best_key_ridge_no_scale)\n",
    "\n",
    "ridge = linear_model.Ridge(alpha=best_key_ridge_no_scale).fit(X_train2,Y_train2)\n",
    "print('MSE Ridge No Scale:',mean_squared_error(Y_test2, ridge.predict(X_test2)))\n",
    "print('R2 Ridge No Scale:',r2_score(Y_test2, ridge.predict(X_test2)))"
   ]
  },
  {
   "cell_type": "markdown",
   "metadata": {},
   "source": [
    "#### Why do we need to scale the data before regularization (2pts)?\n",
    "We need to scale the data before regularization to ensure that the features use values that are in similiar ranges. This ensures that features that are deemed as outliers are not used in the model. This is evident in the ridge model with scaling vs no scaling. In the ridge model with scaling the R2 is higher meaning there is higher correlation between the features and the MSE is smaller meaning there is less error in the model. This is an example where scaling the data is important before regularization."
   ]
  }
 ],
 "metadata": {
  "colab": {
   "collapsed_sections": [],
   "name": "MIS 382N - HW1.ipynb",
   "provenance": []
  },
  "kernelspec": {
   "display_name": "Python 3",
   "language": "python",
   "name": "python3"
  },
  "language_info": {
   "codemirror_mode": {
    "name": "ipython",
    "version": 3
   },
   "file_extension": ".py",
   "mimetype": "text/x-python",
   "name": "python",
   "nbconvert_exporter": "python",
   "pygments_lexer": "ipython3",
   "version": "3.8.8"
  }
 },
 "nbformat": 4,
 "nbformat_minor": 1
}
